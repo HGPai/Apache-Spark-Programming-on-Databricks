{
 "cells": [
  {
   "cell_type": "markdown",
   "metadata": {
    "application/vnd.databricks.v1+cell": {
     "cellMetadata": {},
     "inputWidgets": {},
     "nuid": "b47a4ca6-a6e8-4973-9cf1-b02078ff8454",
     "showTitle": false,
     "title": ""
    }
   },
   "source": [
    "# Additional Functions\n",
    "\n",
    "##### Objectives\n",
    "1. Apply built-in functions to generate data for new columns\n",
    "1. Apply DataFrame NA functions to handle null values\n",
    "1. Join DataFrames\n",
    "\n",
    "##### Methods\n",
    "- <a href=\"https://spark.apache.org/docs/latest/api/python/reference/api/pyspark.sql.DataFrameNaFunctions.html\" target=\"_blank\">DataFrameNaFunctions</a>: `fill`\n",
    "- <a href=\"https://spark.apache.org/docs/latest/api/python/reference/pyspark.sql.html?#functions\" target=\"_blank\">Built-In Functions</a>:\n",
    "  - Aggregate: `collect_set`\n",
    "  - Collection: `explode`\n",
    "  - Non-aggregate and miscellaneous: `col`, `lit`"
   ]
  },
  {
   "cell_type": "markdown",
   "metadata": {
    "application/vnd.databricks.v1+cell": {
     "cellMetadata": {},
     "inputWidgets": {},
     "nuid": "ba2bed87-f8e9-421d-a343-2e43147a45a0",
     "showTitle": false,
     "title": ""
    }
   },
   "source": [
    "### DataFrameNaFunctions\n",
    "<a href=\"https://spark.apache.org/docs/latest/api/python/reference/api/pyspark.sql.DataFrameNaFunctions.html\" target=\"_blank\">DataFrameNaFunctions</a> is a DataFrame submodule with methods for handling null values. Obtain an instance of DataFrameNaFunctions by accessing the `na` attribute of a DataFrame.\n",
    "\n",
    "| Method | Description |\n",
    "| --- | --- |\n",
    "| drop | Returns a new DataFrame omitting rows with any, all, or a specified number of null values, considering an optional subset of columns |\n",
    "| fill | Replace null values with the specified value for an optional subset of columns |\n",
    "| replace | Returns a new DataFrame replacing a value with another value, considering an optional subset of columns |"
   ]
  },
  {
   "cell_type": "markdown",
   "metadata": {
    "application/vnd.databricks.v1+cell": {
     "cellMetadata": {},
     "inputWidgets": {},
     "nuid": "f87644a6-63dd-47bd-9ffa-d2de67535a2b",
     "showTitle": false,
     "title": ""
    }
   },
   "source": [
    "### Non-aggregate and Miscellaneous Functions\n",
    "Here are a few additional non-aggregate and miscellaneous built-in functions.\n",
    "\n",
    "| Method | Description |\n",
    "| --- | --- |\n",
    "| col / column | Returns a Column based on the given column name. |\n",
    "| lit | Creates a Column of literal value |\n",
    "| isnull | Return true iff the column is null |\n",
    "| rand | Generate a random column with independent and identically distributed (i.i.d.) samples uniformly distributed in [0.0, 1.0) |"
   ]
  },
  {
   "cell_type": "markdown",
   "metadata": {
    "application/vnd.databricks.v1+cell": {
     "cellMetadata": {},
     "inputWidgets": {},
     "nuid": "9db74427-c33e-42f1-ad0d-f3d832fbc4ca",
     "showTitle": false,
     "title": ""
    }
   },
   "source": [
    "### Joining DataFrames\n",
    "The DataFrame <a href=\"https://spark.apache.org/docs/latest/api/python/reference/api/pyspark.sql.DataFrame.join.html?highlight=join#pyspark.sql.DataFrame.join\" target=\"_blank\">`join`</a> method joins two DataFrames based on a given join expression. Several different types of joins are supported. For example:\n",
    "\n",
    "```\n",
    "# Inner join based on equal values of a shared column called 'name' (i.e., an equi join)\n",
    "df1.join(df2, 'name')\n",
    "\n",
    "# Inner join based on equal values of the shared columns called 'name' and 'age'\n",
    "df1.join(df2, ['name', 'age'])\n",
    "\n",
    "# Full outer join based on equal values of a shared column called 'name'\n",
    "df1.join(df2, 'name', 'outer')\n",
    "\n",
    "# Left outer join based on an explicit column expression\n",
    "df1.join(df2, df1['customer_name'] == df2['account_name'], 'left_outer')\n",
    "```"
   ]
  },
  {
   "cell_type": "markdown",
   "metadata": {
    "application/vnd.databricks.v1+cell": {
     "cellMetadata": {},
     "inputWidgets": {},
     "nuid": "66c5ee6b-e8d0-4234-96a0-79163e883226",
     "showTitle": false,
     "title": ""
    }
   },
   "source": [
    "# Abandoned Carts Lab\n",
    "Get abandoned cart items for email without purchases.\n",
    "1. Get emails of converted users from transactions\n",
    "2. Join emails with user IDs\n",
    "3. Get cart item history for each user\n",
    "4. Join cart item history with emails\n",
    "5. Filter for emails with abandoned cart items\n",
    "\n",
    "##### Methods\n",
    "- <a href=\"https://spark.apache.org/docs/latest/api/python/reference/api/pyspark.sql.DataFrame.html\" target=\"_blank\">DataFrame</a>: `join`\n",
    "- <a href=\"https://spark.apache.org/docs/latest/api/python/reference/pyspark.sql.html?#functions\" target=\"_blank\">Built-In Functions</a>: `collect_set`, `explode`, `lit`\n",
    "- <a href=\"https://spark.apache.org/docs/latest/api/python/reference/api/pyspark.sql.DataFrameNaFunctions.html\" target=\"_blank\">DataFrameNaFunctions</a>: `fill`"
   ]
  },
  {
   "cell_type": "markdown",
   "metadata": {
    "application/vnd.databricks.v1+cell": {
     "cellMetadata": {},
     "inputWidgets": {},
     "nuid": "047b8374-44b9-4062-9f82-9c7af6d175fc",
     "showTitle": false,
     "title": ""
    }
   },
   "source": [
    "### Setup\n",
    "Run the cells below to create DataFrames **`salesDF`**, **`usersDF`**, and **`eventsDF`**."
   ]
  },
  {
   "cell_type": "code",
   "execution_count": 0,
   "metadata": {
    "application/vnd.databricks.v1+cell": {
     "cellMetadata": {},
     "inputWidgets": {},
     "nuid": "3a6a0004-a70b-4c4c-8c9a-938f4bb592ba",
     "showTitle": false,
     "title": ""
    }
   },
   "outputs": [
    {
     "data": {
      "text/html": []
     },
     "metadata": {
      "application/vnd.databricks.v1+output": {
       "addedWidgets": {},
       "arguments": {},
       "data": "",
       "datasetInfos": [],
       "metadata": {
        "isDbfsCommandResult": false
       },
       "removedWidgets": [],
       "textData": null,
       "type": "htmlSandbox"
      }
     },
     "output_type": "display_data"
    }
   ],
   "source": [
    "%run ./Includes/Classroom-Setup"
   ]
  },
  {
   "cell_type": "code",
   "execution_count": 0,
   "metadata": {
    "application/vnd.databricks.v1+cell": {
     "cellMetadata": {},
     "inputWidgets": {},
     "nuid": "cc9baa45-9e2a-480b-9b03-b158d82d15e9",
     "showTitle": false,
     "title": ""
    }
   },
   "outputs": [
    {
     "data": {
      "text/html": [
       "Finished setting up utiltity methods..."
      ]
     },
     "metadata": {
      "application/vnd.databricks.v1+output": {
       "addedWidgets": {},
       "arguments": {},
       "data": "Finished setting up utiltity methods...",
       "datasetInfos": [],
       "metadata": {
        "isDbfsCommandResult": false
       },
       "removedWidgets": [],
       "textData": null,
       "type": "htmlSandbox"
      }
     },
     "output_type": "display_data"
    },
    {
     "data": {
      "text/html": [
       "Datasets mounted and student environment set up"
      ]
     },
     "metadata": {
      "application/vnd.databricks.v1+output": {
       "addedWidgets": {},
       "arguments": {},
       "data": "Datasets mounted and student environment set up",
       "datasetInfos": [],
       "metadata": {
        "isDbfsCommandResult": false
       },
       "removedWidgets": [],
       "textData": null,
       "type": "htmlSandbox"
      }
     },
     "output_type": "display_data"
    }
   ],
   "source": [
    "from pyspark.sql.functions import *"
   ]
  },
  {
   "cell_type": "code",
   "execution_count": 0,
   "metadata": {
    "application/vnd.databricks.v1+cell": {
     "cellMetadata": {},
     "inputWidgets": {},
     "nuid": "2540a1ad-ca90-41e9-87c2-f15ff4597950",
     "showTitle": false,
     "title": ""
    }
   },
   "outputs": [
    {
     "data": {
      "text/html": [
       "<style scoped>\n",
       "  .table-result-container {\n",
       "    max-height: 300px;\n",
       "    overflow: auto;\n",
       "  }\n",
       "  table, th, td {\n",
       "    border: 1px solid black;\n",
       "    border-collapse: collapse;\n",
       "  }\n",
       "  th, td {\n",
       "    padding: 5px;\n",
       "  }\n",
       "  th {\n",
       "    text-align: left;\n",
       "  }\n",
       "</style><div class='table-result-container'><table class='table-result'><thead style='background-color: white'><tr><th>order_id</th><th>email</th><th>transaction_timestamp</th><th>total_item_quantity</th><th>purchase_revenue_in_usd</th><th>unique_items</th><th>items</th></tr></thead><tbody><tr><td>257437</td><td>kmunoz@powell-duran.com</td><td>1592194221828900</td><td>1</td><td>1995.0</td><td>1</td><td>List(List(null, M_PREM_K, Premium King Mattress, 1995.0, 1995.0, 1))</td></tr><tr><td>282611</td><td>bmurillo@hotmail.com</td><td>1592504237604072</td><td>1</td><td>940.5</td><td>1</td><td>List(List(NEWBED10, M_STAN_Q, Standard Queen Mattress, 940.5, 1045.0, 1))</td></tr><tr><td>257448</td><td>bradley74@gmail.com</td><td>1592200438030141</td><td>1</td><td>945.0</td><td>1</td><td>List(List(null, M_STAN_F, Standard Full Mattress, 945.0, 945.0, 1))</td></tr></tbody></table></div>"
      ]
     },
     "metadata": {
      "application/vnd.databricks.v1+output": {
       "addedWidgets": {},
       "aggData": [],
       "aggError": "",
       "aggOverflow": false,
       "aggSchema": [],
       "aggSeriesLimitReached": false,
       "aggType": "",
       "arguments": {},
       "columnCustomDisplayInfos": {},
       "data": [
        [
         257437,
         "kmunoz@powell-duran.com",
         1592194221828900,
         1,
         1995,
         1,
         [
          [
           null,
           "M_PREM_K",
           "Premium King Mattress",
           1995,
           1995,
           1
          ]
         ]
        ],
        [
         282611,
         "bmurillo@hotmail.com",
         1592504237604072,
         1,
         940.5,
         1,
         [
          [
           "NEWBED10",
           "M_STAN_Q",
           "Standard Queen Mattress",
           940.5,
           1045,
           1
          ]
         ]
        ],
        [
         257448,
         "bradley74@gmail.com",
         1592200438030141,
         1,
         945,
         1,
         [
          [
           null,
           "M_STAN_F",
           "Standard Full Mattress",
           945,
           945,
           1
          ]
         ]
        ]
       ],
       "datasetInfos": [],
       "dbfsResultPath": null,
       "isJsonSchema": true,
       "metadata": {},
       "overflow": false,
       "plotOptions": {
        "customPlotOptions": {},
        "displayType": "table",
        "pivotAggregation": null,
        "pivotColumns": [],
        "xColumns": [],
        "yColumns": []
       },
       "removedWidgets": [],
       "schema": [
        {
         "metadata": "{}",
         "name": "order_id",
         "type": "\"long\""
        },
        {
         "metadata": "{}",
         "name": "email",
         "type": "\"string\""
        },
        {
         "metadata": "{}",
         "name": "transaction_timestamp",
         "type": "\"long\""
        },
        {
         "metadata": "{}",
         "name": "total_item_quantity",
         "type": "\"long\""
        },
        {
         "metadata": "{}",
         "name": "purchase_revenue_in_usd",
         "type": "\"double\""
        },
        {
         "metadata": "{}",
         "name": "unique_items",
         "type": "\"long\""
        },
        {
         "metadata": "{}",
         "name": "items",
         "type": "{\"type\":\"array\",\"elementType\":{\"type\":\"struct\",\"fields\":[{\"name\":\"coupon\",\"type\":\"string\",\"nullable\":true,\"metadata\":{}},{\"name\":\"item_id\",\"type\":\"string\",\"nullable\":true,\"metadata\":{}},{\"name\":\"item_name\",\"type\":\"string\",\"nullable\":true,\"metadata\":{}},{\"name\":\"item_revenue_in_usd\",\"type\":\"double\",\"nullable\":true,\"metadata\":{}},{\"name\":\"price_in_usd\",\"type\":\"double\",\"nullable\":true,\"metadata\":{}},{\"name\":\"quantity\",\"type\":\"long\",\"nullable\":true,\"metadata\":{}}]},\"containsNull\":true}"
        }
       ],
       "type": "table"
      }
     },
     "output_type": "display_data"
    }
   ],
   "source": [
    "# sale transactions at BedBricks\n",
    "salesDF = spark.read.parquet(salesPath)\n",
    "display(salesDF.take(3))"
   ]
  },
  {
   "cell_type": "code",
   "execution_count": 0,
   "metadata": {
    "application/vnd.databricks.v1+cell": {
     "cellMetadata": {},
     "inputWidgets": {},
     "nuid": "a32921b4-3269-4f84-890d-499a79aa4a86",
     "showTitle": false,
     "title": ""
    }
   },
   "outputs": [
    {
     "data": {
      "text/plain": [
       "+-----------------+--------------------------+-----+\n",
       "|          user_id|user_first_touch_timestamp|email|\n",
       "+-----------------+--------------------------+-----+\n",
       "|UA000000102357305|          1592182691348767| null|\n",
       "|UA000000102357308|          1592183287634953| null|\n",
       "|UA000000102357309|          1592183302736627| null|\n",
       "+-----------------+--------------------------+-----+\n",
       "only showing top 3 rows\n",
       "\n"
      ]
     },
     "metadata": {
      "application/vnd.databricks.v1+output": {
       "addedWidgets": {},
       "arguments": {},
       "data": "+-----------------+--------------------------+-----+\n|          user_id|user_first_touch_timestamp|email|\n+-----------------+--------------------------+-----+\n|UA000000102357305|          1592182691348767| null|\n|UA000000102357308|          1592183287634953| null|\n|UA000000102357309|          1592183302736627| null|\n+-----------------+--------------------------+-----+\nonly showing top 3 rows\n\n",
       "datasetInfos": [],
       "metadata": {},
       "removedWidgets": [],
       "type": "ansi"
      }
     },
     "output_type": "display_data"
    }
   ],
   "source": [
    "# user IDs and emails at BedBricks\n",
    "usersDF = spark.read.parquet(usersPath)\n",
    "display(usersDF.show(3))"
   ]
  },
  {
   "cell_type": "code",
   "execution_count": 0,
   "metadata": {
    "application/vnd.databricks.v1+cell": {
     "cellMetadata": {},
     "inputWidgets": {},
     "nuid": "1784409b-dad7-465f-aea7-4ced61a9cece",
     "showTitle": false,
     "title": ""
    }
   },
   "outputs": [
    {
     "data": {
      "text/plain": [
       "+-------+------------------+----------+------------------------+----------------+-----------------+--------------------+--------------+--------------------------+-----------------+\n",
       "| device|         ecommerce|event_name|event_previous_timestamp| event_timestamp|              geo|               items|traffic_source|user_first_touch_timestamp|          user_id|\n",
       "+-------+------------------+----------+------------------------+----------------+-----------------+--------------------+--------------+--------------------------+-----------------+\n",
       "|  macOS|{null, null, null}|  warranty|        1593878899217692|1593878946592107|   {Montrose, MI}|                  []|        google|          1593878899217692|UA000000107379500|\n",
       "|Windows|{null, null, null}|     press|        1593876662175340|1593877011756535|{Northampton, MA}|                  []|        google|          1593876662175340|UA000000107359357|\n",
       "|  macOS|{null, null, null}|  add_item|        1593878792892652|1593878815459100|    {Salinas, CA}|[{null, M_STAN_T,...|       youtube|          1593878455472030|UA000000107375547|\n",
       "+-------+------------------+----------+------------------------+----------------+-----------------+--------------------+--------------+--------------------------+-----------------+\n",
       "only showing top 3 rows\n",
       "\n"
      ]
     },
     "metadata": {
      "application/vnd.databricks.v1+output": {
       "addedWidgets": {},
       "arguments": {},
       "data": "+-------+------------------+----------+------------------------+----------------+-----------------+--------------------+--------------+--------------------------+-----------------+\n| device|         ecommerce|event_name|event_previous_timestamp| event_timestamp|              geo|               items|traffic_source|user_first_touch_timestamp|          user_id|\n+-------+------------------+----------+------------------------+----------------+-----------------+--------------------+--------------+--------------------------+-----------------+\n|  macOS|{null, null, null}|  warranty|        1593878899217692|1593878946592107|   {Montrose, MI}|                  []|        google|          1593878899217692|UA000000107379500|\n|Windows|{null, null, null}|     press|        1593876662175340|1593877011756535|{Northampton, MA}|                  []|        google|          1593876662175340|UA000000107359357|\n|  macOS|{null, null, null}|  add_item|        1593878792892652|1593878815459100|    {Salinas, CA}|[{null, M_STAN_T,...|       youtube|          1593878455472030|UA000000107375547|\n+-------+------------------+----------+------------------------+----------------+-----------------+--------------------+--------------+--------------------------+-----------------+\nonly showing top 3 rows\n\n",
       "datasetInfos": [],
       "metadata": {},
       "removedWidgets": [],
       "type": "ansi"
      }
     },
     "output_type": "display_data"
    }
   ],
   "source": [
    "# events logged on the BedBricks website\n",
    "eventsDF = spark.read.parquet(eventsPath)\n",
    "display(eventsDF.show(3))"
   ]
  },
  {
   "cell_type": "markdown",
   "metadata": {
    "application/vnd.databricks.v1+cell": {
     "cellMetadata": {},
     "inputWidgets": {},
     "nuid": "3a5cc9a4-8019-424a-b0bb-51726056700d",
     "showTitle": false,
     "title": ""
    }
   },
   "source": [
    "### 1-A: Get emails of converted users from transactions\n",
    "- Select the **`email`** column in **`salesDF`** and remove duplicates\n",
    "- Add a new column **`converted`** with the value **`True`** for all rows\n",
    "\n",
    "Save the result as **`convertedUsersDF`**."
   ]
  },
  {
   "cell_type": "code",
   "execution_count": 0,
   "metadata": {
    "application/vnd.databricks.v1+cell": {
     "cellMetadata": {},
     "inputWidgets": {},
     "nuid": "c0f648aa-1b45-4bf0-a779-e77f792ed40b",
     "showTitle": false,
     "title": ""
    }
   },
   "outputs": [
    {
     "data": {
      "text/plain": [
       "+--------------------+---------+\n",
       "|               email|converted|\n",
       "+--------------------+---------+\n",
       "|zacharyfisher@bro...|     true|\n",
       "|flowersrhonda@pau...|     true|\n",
       "+--------------------+---------+\n",
       "only showing top 2 rows\n",
       "\n"
      ]
     },
     "metadata": {
      "application/vnd.databricks.v1+output": {
       "addedWidgets": {},
       "arguments": {},
       "data": "+--------------------+---------+\n|               email|converted|\n+--------------------+---------+\n|zacharyfisher@bro...|     true|\n|flowersrhonda@pau...|     true|\n+--------------------+---------+\nonly showing top 2 rows\n\n",
       "datasetInfos": [],
       "metadata": {},
       "removedWidgets": [],
       "type": "ansi"
      }
     },
     "output_type": "display_data"
    }
   ],
   "source": [
    "# TODO\n",
    "\n",
    "convertedUsersDF = (salesDF.dropDuplicates([\"email\"])\n",
    "                           .withColumn(\"converted\", lit(True))\n",
    "                           .select(col(\"email\"), col(\"converted\"))\n",
    "                       \n",
    ")\n",
    "display(convertedUsersDF.show(2))"
   ]
  },
  {
   "cell_type": "markdown",
   "metadata": {
    "application/vnd.databricks.v1+cell": {
     "cellMetadata": {},
     "inputWidgets": {},
     "nuid": "b94dda65-215d-4035-9927-32d26edb3a15",
     "showTitle": false,
     "title": ""
    }
   },
   "source": [
    "#### 1-B: Check Your Work\n",
    "\n",
    "Run the following cell to verify that your solution works:"
   ]
  },
  {
   "cell_type": "code",
   "execution_count": 0,
   "metadata": {
    "application/vnd.databricks.v1+cell": {
     "cellMetadata": {},
     "inputWidgets": {},
     "nuid": "14ac40c1-4e84-43f6-bf8d-ed1ba80933be",
     "showTitle": false,
     "title": ""
    }
   },
   "outputs": [],
   "source": [
    "expectedColumns = [\"email\", \"converted\"]\n",
    "\n",
    "expectedCount = 210370\n",
    "\n",
    "assert convertedUsersDF.columns == expectedColumns, \"convertedUsersDF does not have the correct columns\"\n",
    "\n",
    "assert convertedUsersDF.count() == expectedCount, \"convertedUsersDF does not have the correct number of rows\"\n",
    "\n",
    "assert convertedUsersDF.select(col(\"converted\")).first()[0] == True, \"converted column not correct\""
   ]
  },
  {
   "cell_type": "markdown",
   "metadata": {
    "application/vnd.databricks.v1+cell": {
     "cellMetadata": {},
     "inputWidgets": {},
     "nuid": "9b0755b6-122a-448a-8679-1a188746b292",
     "showTitle": false,
     "title": ""
    }
   },
   "source": [
    "### 2-A: Join emails with user IDs\n",
    "- Perform an outer join on **`convertedUsersDF`** and **`usersDF`** with the **`email`** field\n",
    "- Filter for users where **`email`** is not null\n",
    "- Fill null values in **`converted`** as **`False`**\n",
    "\n",
    "Save the result as **`conversionsDF`**."
   ]
  },
  {
   "cell_type": "code",
   "execution_count": 0,
   "metadata": {
    "application/vnd.databricks.v1+cell": {
     "cellMetadata": {},
     "inputWidgets": {},
     "nuid": "f3be5996-7e5e-4323-bb25-ab2e4b03fcca",
     "showTitle": false,
     "title": ""
    }
   },
   "outputs": [
    {
     "data": {
      "text/html": [
       "<style scoped>\n",
       "  .table-result-container {\n",
       "    max-height: 300px;\n",
       "    overflow: auto;\n",
       "  }\n",
       "  table, th, td {\n",
       "    border: 1px solid black;\n",
       "    border-collapse: collapse;\n",
       "  }\n",
       "  th, td {\n",
       "    padding: 5px;\n",
       "  }\n",
       "  th {\n",
       "    text-align: left;\n",
       "  }\n",
       "</style><div class='table-result-container'><table class='table-result'><thead style='background-color: white'><tr><th>email</th><th>user_id</th><th>user_first_touch_timestamp</th><th>converted</th></tr></thead><tbody><tr><td>aabbott@fischer-thompson.info</td><td>UA000000107293930</td><td>1593868005679801</td><td>false</td></tr><tr><td>aacevedo@moss-young.com</td><td>UA000000103755561</td><td>1592671212475050</td><td>false</td></tr><tr><td>aacosta11@gmail.com</td><td>UA000000106362980</td><td>1593540790039008</td><td>false</td></tr></tbody></table></div>"
      ]
     },
     "metadata": {
      "application/vnd.databricks.v1+output": {
       "addedWidgets": {},
       "aggData": [],
       "aggError": "",
       "aggOverflow": false,
       "aggSchema": [],
       "aggSeriesLimitReached": false,
       "aggType": "",
       "arguments": {},
       "columnCustomDisplayInfos": {},
       "data": [
        [
         "aabbott@fischer-thompson.info",
         "UA000000107293930",
         1593868005679801,
         false
        ],
        [
         "aacevedo@moss-young.com",
         "UA000000103755561",
         1592671212475050,
         false
        ],
        [
         "aacosta11@gmail.com",
         "UA000000106362980",
         1593540790039008,
         false
        ]
       ],
       "datasetInfos": [],
       "dbfsResultPath": null,
       "isJsonSchema": true,
       "metadata": {},
       "overflow": false,
       "plotOptions": {
        "customPlotOptions": {},
        "displayType": "table",
        "pivotAggregation": null,
        "pivotColumns": [],
        "xColumns": [],
        "yColumns": []
       },
       "removedWidgets": [],
       "schema": [
        {
         "metadata": "{}",
         "name": "email",
         "type": "\"string\""
        },
        {
         "metadata": "{}",
         "name": "user_id",
         "type": "\"string\""
        },
        {
         "metadata": "{}",
         "name": "user_first_touch_timestamp",
         "type": "\"long\""
        },
        {
         "metadata": "{}",
         "name": "converted",
         "type": "\"boolean\""
        }
       ],
       "type": "table"
      }
     },
     "output_type": "display_data"
    }
   ],
   "source": [
    "# TODO\n",
    "conversionsDF = (usersDF.join(convertedUsersDF, \"email\",  \"outer\")\n",
    "                        .filter(col(\"email\").isNotNull())\n",
    "                        .na.fill({\"converted\": False})\n",
    ")\n",
    "display(conversionsDF.take(3))"
   ]
  },
  {
   "cell_type": "markdown",
   "metadata": {
    "application/vnd.databricks.v1+cell": {
     "cellMetadata": {},
     "inputWidgets": {},
     "nuid": "01a38acc-2966-4284-819e-c16ab932debd",
     "showTitle": false,
     "title": ""
    }
   },
   "source": [
    "#### 2-B: Check Your Work\n",
    "\n",
    "Run the following cell to verify that your solution works:"
   ]
  },
  {
   "cell_type": "code",
   "execution_count": 0,
   "metadata": {
    "application/vnd.databricks.v1+cell": {
     "cellMetadata": {},
     "inputWidgets": {},
     "nuid": "5dccf728-55f1-4c8c-a36a-b940a2e30744",
     "showTitle": false,
     "title": ""
    }
   },
   "outputs": [],
   "source": [
    "expectedColumns = [\"email\", \"user_id\", \"user_first_touch_timestamp\", \"converted\"]\n",
    "\n",
    "expectedCount = 782749\n",
    "\n",
    "expectedFalseCount = 572379\n",
    "\n",
    "assert conversionsDF.columns == expectedColumns, \"Columns are not correct\"\n",
    "\n",
    "assert conversionsDF.filter(col(\"email\").isNull()).count() == 0, \"Email column contains null\"\n",
    "\n",
    "assert conversionsDF.count() == expectedCount, \"There is an incorrect number of rows\"\n",
    "\n",
    "assert conversionsDF.filter(col(\"converted\") == False).count() == expectedFalseCount, \"There is an incorrect number of false entries in converted column\""
   ]
  },
  {
   "cell_type": "markdown",
   "metadata": {
    "application/vnd.databricks.v1+cell": {
     "cellMetadata": {},
     "inputWidgets": {},
     "nuid": "9ddaa555-4f85-465a-b310-896827f8a719",
     "showTitle": false,
     "title": ""
    }
   },
   "source": [
    "### 3-A: Get cart item history for each user\n",
    "- Explode the **`items`** field in **`eventsDF`** with the results replacing the existing **`items`** field\n",
    "- Group by **`user_id`**\n",
    "  - Collect a set of all **`items.item_id`** objects for each user and alias the column to \"cart\"\n",
    "\n",
    "Save the result as **`cartsDF`**."
   ]
  },
  {
   "cell_type": "code",
   "execution_count": 0,
   "metadata": {
    "application/vnd.databricks.v1+cell": {
     "cellMetadata": {},
     "inputWidgets": {},
     "nuid": "25586ada-4251-4b7d-9678-bb219915ad17",
     "showTitle": false,
     "title": ""
    }
   },
   "outputs": [
    {
     "data": {
      "text/html": [
       "<style scoped>\n",
       "  .table-result-container {\n",
       "    max-height: 300px;\n",
       "    overflow: auto;\n",
       "  }\n",
       "  table, th, td {\n",
       "    border: 1px solid black;\n",
       "    border-collapse: collapse;\n",
       "  }\n",
       "  th, td {\n",
       "    padding: 5px;\n",
       "  }\n",
       "  th {\n",
       "    text-align: left;\n",
       "  }\n",
       "</style><div class='table-result-container'><table class='table-result'><thead style='background-color: white'><tr><th>user_id</th><th>cart</th></tr></thead><tbody><tr><td>UA000000102358054</td><td>List(M_STAN_T)</td></tr><tr><td>UA000000102360011</td><td>List(M_STAN_Q)</td></tr><tr><td>UA000000102360488</td><td>List(M_STAN_Q)</td></tr></tbody></table></div>"
      ]
     },
     "metadata": {
      "application/vnd.databricks.v1+output": {
       "addedWidgets": {},
       "aggData": [],
       "aggError": "",
       "aggOverflow": false,
       "aggSchema": [],
       "aggSeriesLimitReached": false,
       "aggType": "",
       "arguments": {},
       "columnCustomDisplayInfos": {},
       "data": [
        [
         "UA000000102358054",
         [
          "M_STAN_T"
         ]
        ],
        [
         "UA000000102360011",
         [
          "M_STAN_Q"
         ]
        ],
        [
         "UA000000102360488",
         [
          "M_STAN_Q"
         ]
        ]
       ],
       "datasetInfos": [],
       "dbfsResultPath": null,
       "isJsonSchema": true,
       "metadata": {},
       "overflow": false,
       "plotOptions": {
        "customPlotOptions": {},
        "displayType": "table",
        "pivotAggregation": null,
        "pivotColumns": [],
        "xColumns": [],
        "yColumns": []
       },
       "removedWidgets": [],
       "schema": [
        {
         "metadata": "{}",
         "name": "user_id",
         "type": "\"string\""
        },
        {
         "metadata": "{}",
         "name": "cart",
         "type": "{\"type\":\"array\",\"elementType\":\"string\",\"containsNull\":true}"
        }
       ],
       "type": "table"
      }
     },
     "output_type": "display_data"
    }
   ],
   "source": [
    "# TODO\n",
    "cartsDF = (eventsDF.withColumn(\"items\", explode(\"items\"))\n",
    "                   .groupBy(\"user_id\")\n",
    "                   .agg(collect_set(\"items.item_id\").alias(\"cart\"))\n",
    ")\n",
    "display(cartsDF.take(3))"
   ]
  },
  {
   "cell_type": "markdown",
   "metadata": {
    "application/vnd.databricks.v1+cell": {
     "cellMetadata": {},
     "inputWidgets": {},
     "nuid": "0dffe83a-4933-40ea-a4dc-685a43fab5d9",
     "showTitle": false,
     "title": ""
    }
   },
   "source": [
    "#### 3-B: Check Your Work\n",
    "\n",
    "Run the following cell to verify that your solution works:"
   ]
  },
  {
   "cell_type": "code",
   "execution_count": 0,
   "metadata": {
    "application/vnd.databricks.v1+cell": {
     "cellMetadata": {},
     "inputWidgets": {},
     "nuid": "01d9dc03-93a0-4755-8087-d7a67e4e9549",
     "showTitle": false,
     "title": ""
    }
   },
   "outputs": [],
   "source": [
    "expectedColumns = [\"user_id\", \"cart\"]\n",
    "\n",
    "expectedCount = 488403\n",
    "\n",
    "assert cartsDF.columns == expectedColumns, \"Incorrect columns\"\n",
    "\n",
    "assert cartsDF.count() == expectedCount, \"Incorrect number of rows\"\n",
    "\n",
    "assert cartsDF.select(col(\"user_id\")).drop_duplicates().count() == expectedCount, \"Duplicate user_ids present\""
   ]
  },
  {
   "cell_type": "markdown",
   "metadata": {
    "application/vnd.databricks.v1+cell": {
     "cellMetadata": {},
     "inputWidgets": {},
     "nuid": "6a48b7e9-1f6e-47ff-ba5d-e18d1294c4a7",
     "showTitle": false,
     "title": ""
    }
   },
   "source": [
    "### 4-A: Join cart item history with emails\n",
    "- Perform a left join on **`conversionsDF`** and **`cartsDF`** on the **`user_id`** field\n",
    "\n",
    "Save result as **`emailCartsDF`**."
   ]
  },
  {
   "cell_type": "code",
   "execution_count": 0,
   "metadata": {
    "application/vnd.databricks.v1+cell": {
     "cellMetadata": {},
     "inputWidgets": {},
     "nuid": "a9021408-b97e-4c6e-8d5e-40fac81f6ec1",
     "showTitle": false,
     "title": ""
    }
   },
   "outputs": [
    {
     "data": {
      "text/html": [
       "<style scoped>\n",
       "  .table-result-container {\n",
       "    max-height: 300px;\n",
       "    overflow: auto;\n",
       "  }\n",
       "  table, th, td {\n",
       "    border: 1px solid black;\n",
       "    border-collapse: collapse;\n",
       "  }\n",
       "  th, td {\n",
       "    padding: 5px;\n",
       "  }\n",
       "  th {\n",
       "    text-align: left;\n",
       "  }\n",
       "</style><div class='table-result-container'><table class='table-result'><thead style='background-color: white'><tr><th>user_id</th><th>email</th><th>user_first_touch_timestamp</th><th>converted</th><th>cart</th></tr></thead><tbody><tr><td>UA000000103755561</td><td>aacevedo@moss-young.com</td><td>1592671212475050</td><td>false</td><td>null</td></tr><tr><td>UA000000104095288</td><td>aacevedo@gomez.com</td><td>1592760237847590</td><td>false</td><td>null</td></tr><tr><td>UA000000104327721</td><td>aalexander@smith.com</td><td>1592843067282492</td><td>true</td><td>List(M_STAN_F)</td></tr></tbody></table></div>"
      ]
     },
     "metadata": {
      "application/vnd.databricks.v1+output": {
       "addedWidgets": {},
       "aggData": [],
       "aggError": "",
       "aggOverflow": false,
       "aggSchema": [],
       "aggSeriesLimitReached": false,
       "aggType": "",
       "arguments": {},
       "columnCustomDisplayInfos": {},
       "data": [
        [
         "UA000000103755561",
         "aacevedo@moss-young.com",
         1592671212475050,
         false,
         null
        ],
        [
         "UA000000104095288",
         "aacevedo@gomez.com",
         1592760237847590,
         false,
         null
        ],
        [
         "UA000000104327721",
         "aalexander@smith.com",
         1592843067282492,
         true,
         [
          "M_STAN_F"
         ]
        ]
       ],
       "datasetInfos": [],
       "dbfsResultPath": null,
       "isJsonSchema": true,
       "metadata": {},
       "overflow": false,
       "plotOptions": {
        "customPlotOptions": {},
        "displayType": "table",
        "pivotAggregation": null,
        "pivotColumns": [],
        "xColumns": [],
        "yColumns": []
       },
       "removedWidgets": [],
       "schema": [
        {
         "metadata": "{}",
         "name": "user_id",
         "type": "\"string\""
        },
        {
         "metadata": "{}",
         "name": "email",
         "type": "\"string\""
        },
        {
         "metadata": "{}",
         "name": "user_first_touch_timestamp",
         "type": "\"long\""
        },
        {
         "metadata": "{}",
         "name": "converted",
         "type": "\"boolean\""
        },
        {
         "metadata": "{}",
         "name": "cart",
         "type": "{\"type\":\"array\",\"elementType\":\"string\",\"containsNull\":true}"
        }
       ],
       "type": "table"
      }
     },
     "output_type": "display_data"
    }
   ],
   "source": [
    "# TODO\n",
    "emailCartsDF = conversionsDF.join(cartsDF, \"user_id\", \"left\")\n",
    "display(emailCartsDF.take(3))"
   ]
  },
  {
   "cell_type": "markdown",
   "metadata": {
    "application/vnd.databricks.v1+cell": {
     "cellMetadata": {},
     "inputWidgets": {},
     "nuid": "984b17de-fd1f-4ea8-9fa2-ab545cae3b82",
     "showTitle": false,
     "title": ""
    }
   },
   "source": [
    "#### 4-B: Check Your Work\n",
    "\n",
    "Run the following cell to verify that your solution works:"
   ]
  },
  {
   "cell_type": "code",
   "execution_count": 0,
   "metadata": {
    "application/vnd.databricks.v1+cell": {
     "cellMetadata": {},
     "inputWidgets": {},
     "nuid": "a903e136-8ed1-4477-8de1-1382ecc246c7",
     "showTitle": false,
     "title": ""
    }
   },
   "outputs": [],
   "source": [
    "expectedColumns = [\"user_id\", \"email\", \"user_first_touch_timestamp\", \"converted\", \"cart\"]\n",
    "\n",
    "expectedCount = 782749\n",
    "\n",
    "expectedCartNullCount = 397799\n",
    "\n",
    "assert emailCartsDF.columns == expectedColumns, \"Columns do not match\"\n",
    "\n",
    "assert emailCartsDF.count() == expectedCount, \"Counts do not match\"\n",
    "\n",
    "assert emailCartsDF.filter(col(\"cart\").isNull()).count() == expectedCartNullCount, \"Cart null counts incorrect from join\""
   ]
  },
  {
   "cell_type": "markdown",
   "metadata": {
    "application/vnd.databricks.v1+cell": {
     "cellMetadata": {},
     "inputWidgets": {},
     "nuid": "5ce268dc-54cc-4f27-a278-29acbbc902c0",
     "showTitle": false,
     "title": ""
    }
   },
   "source": [
    "### 5-A: Filter for emails with abandoned cart items\n",
    "- Filter **`emailCartsDF`** for users where **`converted`** is False\n",
    "- Filter for users with non-null carts\n",
    "\n",
    "Save result as **`abandonedItemsDF`**."
   ]
  },
  {
   "cell_type": "code",
   "execution_count": 0,
   "metadata": {
    "application/vnd.databricks.v1+cell": {
     "cellMetadata": {},
     "inputWidgets": {},
     "nuid": "8f87099e-415b-4545-9675-269858f2d856",
     "showTitle": false,
     "title": ""
    }
   },
   "outputs": [
    {
     "data": {
      "text/html": [
       "<style scoped>\n",
       "  .table-result-container {\n",
       "    max-height: 300px;\n",
       "    overflow: auto;\n",
       "  }\n",
       "  table, th, td {\n",
       "    border: 1px solid black;\n",
       "    border-collapse: collapse;\n",
       "  }\n",
       "  th, td {\n",
       "    padding: 5px;\n",
       "  }\n",
       "  th {\n",
       "    text-align: left;\n",
       "  }\n",
       "</style><div class='table-result-container'><table class='table-result'><thead style='background-color: white'><tr><th>user_id</th><th>email</th><th>user_first_touch_timestamp</th><th>converted</th><th>cart</th></tr></thead><tbody><tr><td>UA000000102358054</td><td>markfitzpatrick@hotmail.com</td><td>1592198812458125</td><td>false</td><td>List(M_STAN_T)</td></tr><tr><td>UA000000102367817</td><td>russellpamela@yahoo.com</td><td>1592213618560512</td><td>false</td><td>List(M_PREM_K)</td></tr></tbody></table></div>"
      ]
     },
     "metadata": {
      "application/vnd.databricks.v1+output": {
       "addedWidgets": {},
       "aggData": [],
       "aggError": "",
       "aggOverflow": false,
       "aggSchema": [],
       "aggSeriesLimitReached": false,
       "aggType": "",
       "arguments": {},
       "columnCustomDisplayInfos": {},
       "data": [
        [
         "UA000000102358054",
         "markfitzpatrick@hotmail.com",
         1592198812458125,
         false,
         [
          "M_STAN_T"
         ]
        ],
        [
         "UA000000102367817",
         "russellpamela@yahoo.com",
         1592213618560512,
         false,
         [
          "M_PREM_K"
         ]
        ]
       ],
       "datasetInfos": [],
       "dbfsResultPath": null,
       "isJsonSchema": true,
       "metadata": {},
       "overflow": false,
       "plotOptions": {
        "customPlotOptions": {},
        "displayType": "table",
        "pivotAggregation": null,
        "pivotColumns": [],
        "xColumns": [],
        "yColumns": []
       },
       "removedWidgets": [],
       "schema": [
        {
         "metadata": "{}",
         "name": "user_id",
         "type": "\"string\""
        },
        {
         "metadata": "{}",
         "name": "email",
         "type": "\"string\""
        },
        {
         "metadata": "{}",
         "name": "user_first_touch_timestamp",
         "type": "\"long\""
        },
        {
         "metadata": "{}",
         "name": "converted",
         "type": "\"boolean\""
        },
        {
         "metadata": "{}",
         "name": "cart",
         "type": "{\"type\":\"array\",\"elementType\":\"string\",\"containsNull\":true}"
        }
       ],
       "type": "table"
      }
     },
     "output_type": "display_data"
    }
   ],
   "source": [
    "# TODO\n",
    "abandonedCartsDF = (emailCartsDF.filter(col(\"converted\")==False)\n",
    "                                .filter(col(\"cart\").isNotNull())\n",
    ")\n",
    "display(abandonedCartsDF.take(2))"
   ]
  },
  {
   "cell_type": "markdown",
   "metadata": {
    "application/vnd.databricks.v1+cell": {
     "cellMetadata": {},
     "inputWidgets": {},
     "nuid": "b87df646-8f5e-457b-be6f-b4bc6bae7495",
     "showTitle": false,
     "title": ""
    }
   },
   "source": [
    "#### 5-B: Check Your Work\n",
    "\n",
    "Run the following cell to verify that your solution works:"
   ]
  },
  {
   "cell_type": "code",
   "execution_count": 0,
   "metadata": {
    "application/vnd.databricks.v1+cell": {
     "cellMetadata": {},
     "inputWidgets": {},
     "nuid": "9f059dc7-7185-46ca-94a3-7b94ef3bb8e7",
     "showTitle": false,
     "title": ""
    }
   },
   "outputs": [],
   "source": [
    "expectedColumns = [\"user_id\", \"email\", \"user_first_touch_timestamp\", \"converted\", \"cart\"]\n",
    "\n",
    "expectedCount = 204272\n",
    "\n",
    "assert abandonedCartsDF.columns == expectedColumns, \"Columns do not match\"\n",
    "\n",
    "assert abandonedCartsDF.count() == expectedCount, \"Counts do not match\""
   ]
  },
  {
   "cell_type": "markdown",
   "metadata": {
    "application/vnd.databricks.v1+cell": {
     "cellMetadata": {},
     "inputWidgets": {},
     "nuid": "8b7c2e03-7afd-45bd-b4a8-f8a476f323b7",
     "showTitle": false,
     "title": ""
    }
   },
   "source": [
    "### 6-A: Bonus Activity\n",
    "Plot number of abandoned cart items by product"
   ]
  },
  {
   "cell_type": "code",
   "execution_count": 0,
   "metadata": {
    "application/vnd.databricks.v1+cell": {
     "cellMetadata": {},
     "inputWidgets": {},
     "nuid": "edbe939f-c65a-48a8-a9d2-d2f2f18701cb",
     "showTitle": false,
     "title": ""
    }
   },
   "outputs": [
    {
     "data": {
      "text/html": [
       "<style scoped>\n",
       "  .table-result-container {\n",
       "    max-height: 300px;\n",
       "    overflow: auto;\n",
       "  }\n",
       "  table, th, td {\n",
       "    border: 1px solid black;\n",
       "    border-collapse: collapse;\n",
       "  }\n",
       "  th, td {\n",
       "    padding: 5px;\n",
       "  }\n",
       "  th {\n",
       "    text-align: left;\n",
       "  }\n",
       "</style><div class='table-result-container'><table class='table-result'><thead style='background-color: white'><tr><th>items</th><th>count</th></tr></thead><tbody><tr><td>P_FOAM_K</td><td>1958</td></tr><tr><td>M_STAN_Q</td><td>43285</td></tr><tr><td>P_FOAM_S</td><td>11497</td></tr></tbody></table></div>"
      ]
     },
     "metadata": {
      "application/vnd.databricks.v1+output": {
       "addedWidgets": {},
       "aggData": [],
       "aggError": "",
       "aggOverflow": false,
       "aggSchema": [],
       "aggSeriesLimitReached": false,
       "aggType": "",
       "arguments": {},
       "columnCustomDisplayInfos": {},
       "data": [
        [
         "P_FOAM_K",
         1958
        ],
        [
         "M_STAN_Q",
         43285
        ],
        [
         "P_FOAM_S",
         11497
        ]
       ],
       "datasetInfos": [],
       "dbfsResultPath": null,
       "isJsonSchema": true,
       "metadata": {},
       "overflow": false,
       "plotOptions": {
        "customPlotOptions": {},
        "displayType": "table",
        "pivotAggregation": null,
        "pivotColumns": [],
        "xColumns": [],
        "yColumns": []
       },
       "removedWidgets": [],
       "schema": [
        {
         "metadata": "{}",
         "name": "items",
         "type": "\"string\""
        },
        {
         "metadata": "{}",
         "name": "count",
         "type": "\"long\""
        }
       ],
       "type": "table"
      }
     },
     "output_type": "display_data"
    }
   ],
   "source": [
    "# TODO\n",
    "abandonedItemsDF = (abandonedCartsDF.groupBy(element_at(col(\"cart\"), 1).alias(\"items\"))\n",
    "                                    .count()\n",
    ")\n",
    "display(abandonedItemsDF.take(3))"
   ]
  },
  {
   "cell_type": "markdown",
   "metadata": {
    "application/vnd.databricks.v1+cell": {
     "cellMetadata": {},
     "inputWidgets": {},
     "nuid": "d3e3fdec-c5dd-49c0-93d3-4243f5329dc5",
     "showTitle": false,
     "title": ""
    }
   },
   "source": [
    "#### 6-B: Check Your Work\n",
    "\n",
    "Run the following cell to verify that your solution works:"
   ]
  },
  {
   "cell_type": "code",
   "execution_count": 0,
   "metadata": {
    "application/vnd.databricks.v1+cell": {
     "cellMetadata": {},
     "inputWidgets": {},
     "nuid": "61ba7671-ee11-4544-bb74-9f0210b0109d",
     "showTitle": false,
     "title": ""
    }
   },
   "outputs": [
    {
     "data": {
      "text/plain": [
       "Out[70]: 12"
      ]
     },
     "metadata": {
      "application/vnd.databricks.v1+output": {
       "addedWidgets": {},
       "arguments": {},
       "data": "Out[70]: 12",
       "datasetInfos": [],
       "metadata": {},
       "removedWidgets": [],
       "type": "ansi"
      }
     },
     "output_type": "display_data"
    }
   ],
   "source": [
    "abandonedItemsDF.count()"
   ]
  },
  {
   "cell_type": "code",
   "execution_count": 0,
   "metadata": {
    "application/vnd.databricks.v1+cell": {
     "cellMetadata": {},
     "inputWidgets": {},
     "nuid": "cf7d03dd-5814-4c15-9eca-c98ef9796ecd",
     "showTitle": false,
     "title": ""
    }
   },
   "outputs": [],
   "source": [
    "expectedColumns = [\"items\", \"count\"]\n",
    "\n",
    "expectedCount = 12\n",
    "\n",
    "assert abandonedItemsDF.count() == expectedCount, \"Counts do not match\"\n",
    "\n",
    "assert abandonedItemsDF.columns == expectedColumns, \"Columns do not match\""
   ]
  },
  {
   "cell_type": "markdown",
   "metadata": {
    "application/vnd.databricks.v1+cell": {
     "cellMetadata": {},
     "inputWidgets": {},
     "nuid": "ffe193c5-74e9-405e-bf8a-fedb11e24f69",
     "showTitle": false,
     "title": ""
    }
   },
   "source": [
    "### Clean up classroom"
   ]
  },
  {
   "cell_type": "code",
   "execution_count": 0,
   "metadata": {
    "application/vnd.databricks.v1+cell": {
     "cellMetadata": {},
     "inputWidgets": {},
     "nuid": "c52e58f2-59f8-4858-8f4a-7c8f99f25fbb",
     "showTitle": false,
     "title": ""
    }
   },
   "outputs": [
    {
     "data": {
      "text/html": [
       "Dropped database and removed files in working directory"
      ]
     },
     "metadata": {
      "application/vnd.databricks.v1+output": {
       "addedWidgets": {},
       "arguments": {},
       "data": "Dropped database and removed files in working directory",
       "datasetInfos": [],
       "metadata": {},
       "removedWidgets": [],
       "textData": null,
       "type": "htmlSandbox"
      }
     },
     "output_type": "display_data"
    }
   ],
   "source": [
    "%run ./Includes/Classroom-Cleanup"
   ]
  },
  {
   "cell_type": "code",
   "execution_count": 0,
   "metadata": {
    "application/vnd.databricks.v1+cell": {
     "cellMetadata": {
      "implicitDf": true
     },
     "inputWidgets": {},
     "nuid": "8d231efe-5252-4071-a134-c8a524b7a938",
     "showTitle": false,
     "title": ""
    }
   },
   "outputs": [
    {
     "data": {
      "text/html": [
       "<style scoped>\n",
       "  .table-result-container {\n",
       "    max-height: 300px;\n",
       "    overflow: auto;\n",
       "  }\n",
       "  table, th, td {\n",
       "    border: 1px solid black;\n",
       "    border-collapse: collapse;\n",
       "  }\n",
       "  th, td {\n",
       "    padding: 5px;\n",
       "  }\n",
       "  th {\n",
       "    text-align: left;\n",
       "  }\n",
       "</style><div class='table-result-container'><table class='table-result'><thead style='background-color: white'><tr></tr></thead><tbody></tbody></table></div>"
      ]
     },
     "metadata": {
      "application/vnd.databricks.v1+output": {
       "addedWidgets": {},
       "aggData": [],
       "aggError": "",
       "aggOverflow": false,
       "aggSchema": [],
       "aggSeriesLimitReached": false,
       "aggType": "",
       "arguments": {},
       "columnCustomDisplayInfos": {},
       "data": [],
       "datasetInfos": [],
       "dbfsResultPath": null,
       "isJsonSchema": true,
       "metadata": {},
       "overflow": false,
       "plotOptions": {
        "customPlotOptions": {},
        "displayType": "table",
        "pivotAggregation": null,
        "pivotColumns": null,
        "xColumns": null,
        "yColumns": null
       },
       "removedWidgets": [],
       "schema": [],
       "type": "table"
      }
     },
     "output_type": "display_data"
    }
   ],
   "source": [
    "%sql\n",
    "DROP DATABASE dbacademy_admin_databricks_novigosolutions_com_spark_programming_asp_2_4___additional_functions CASCADE"
   ]
  },
  {
   "cell_type": "markdown",
   "metadata": {
    "application/vnd.databricks.v1+cell": {
     "cellMetadata": {},
     "inputWidgets": {},
     "nuid": "57f5d621-5452-499c-a25c-c06a46a7dbe1",
     "showTitle": false,
     "title": ""
    }
   },
   "source": [
    "-sandbox\n",
    "&copy; 2022 Databricks, Inc. All rights reserved.<br/>\n",
    "Apache, Apache Spark, Spark and the Spark logo are trademarks of the <a href=\"https://www.apache.org/\">Apache Software Foundation</a>.<br/>\n",
    "<br/>\n",
    "<a href=\"https://databricks.com/privacy-policy\">Privacy Policy</a> | <a href=\"https://databricks.com/terms-of-use\">Terms of Use</a> | <a href=\"https://help.databricks.com/\">Support</a>"
   ]
  }
 ],
 "metadata": {
  "application/vnd.databricks.v1+notebook": {
   "dashboards": [],
   "language": "python",
   "notebookMetadata": {
    "mostRecentlyExecutedCommandWithImplicitDF": {
     "commandId": 3911887178650254,
     "dataframes": [
      "_sqldf"
     ]
    },
    "pythonIndentUnit": 2
   },
   "notebookName": "ASP 2.4 - Additional Functions",
   "notebookOrigID": 874905206502615,
   "widgets": {}
  },
  "kernelspec": {
   "display_name": "Python 3",
   "language": "python",
   "name": "python3"
  },
  "language_info": {
   "codemirror_mode": {
    "name": "ipython",
    "version": 3
   },
   "file_extension": ".py",
   "mimetype": "text/x-python",
   "name": "python",
   "nbconvert_exporter": "python",
   "pygments_lexer": "ipython3",
   "version": "3.8.8"
  }
 },
 "nbformat": 4,
 "nbformat_minor": 1
}
