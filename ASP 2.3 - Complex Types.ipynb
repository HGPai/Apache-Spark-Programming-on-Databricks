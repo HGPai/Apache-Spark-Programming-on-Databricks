{
 "cells": [
  {
   "cell_type": "markdown",
   "metadata": {
    "application/vnd.databricks.v1+cell": {
     "cellMetadata": {},
     "inputWidgets": {},
     "nuid": "86c4270d-4152-4034-ae71-4233fd8e020c",
     "showTitle": false,
     "title": ""
    }
   },
   "source": [
    "# Complex Types\n",
    "\n",
    "Explore built-in functions for working with collections and strings.\n",
    "\n",
    "##### Objectives\n",
    "1. Apply collection functions to process arrays\n",
    "1. Union DataFrames together\n",
    "\n",
    "##### Methods\n",
    "- <a href=\"https://spark.apache.org/docs/latest/api/python/reference/api/pyspark.sql.DataFrame.html\" target=\"_blank\">DataFrame</a>: `unionByName`\n",
    "- <a href=\"https://spark.apache.org/docs/latest/api/python/reference/pyspark.sql.html?#functions\" target=\"_blank\">Built-In Functions</a>:\n",
    "  - Aggregate: `collect_set`\n",
    "  - Collection: `array_contains`, `element_at`, `explode`\n",
    "  - String: `split`"
   ]
  },
  {
   "cell_type": "code",
   "execution_count": 0,
   "metadata": {
    "application/vnd.databricks.v1+cell": {
     "cellMetadata": {},
     "inputWidgets": {},
     "nuid": "39ed801f-795d-4c3f-bada-0e4edc268d51",
     "showTitle": false,
     "title": ""
    }
   },
   "outputs": [
    {
     "data": {
      "text/html": []
     },
     "metadata": {
      "application/vnd.databricks.v1+output": {
       "addedWidgets": {},
       "arguments": {},
       "data": "",
       "datasetInfos": [],
       "metadata": {
        "isDbfsCommandResult": false
       },
       "removedWidgets": [],
       "textData": null,
       "type": "htmlSandbox"
      }
     },
     "output_type": "display_data"
    },
    {
     "data": {
      "text/html": [
       "Finished setting up utiltity methods..."
      ]
     },
     "metadata": {
      "application/vnd.databricks.v1+output": {
       "addedWidgets": {},
       "arguments": {},
       "data": "Finished setting up utiltity methods...",
       "datasetInfos": [],
       "metadata": {
        "isDbfsCommandResult": false
       },
       "removedWidgets": [],
       "textData": null,
       "type": "htmlSandbox"
      }
     },
     "output_type": "display_data"
    },
    {
     "data": {
      "text/html": [
       "Datasets mounted and student environment set up"
      ]
     },
     "metadata": {
      "application/vnd.databricks.v1+output": {
       "addedWidgets": {},
       "arguments": {},
       "data": "Datasets mounted and student environment set up",
       "datasetInfos": [],
       "metadata": {
        "isDbfsCommandResult": false
       },
       "removedWidgets": [],
       "textData": null,
       "type": "htmlSandbox"
      }
     },
     "output_type": "display_data"
    }
   ],
   "source": [
    "%run ./Includes/Classroom-Setup"
   ]
  },
  {
   "cell_type": "markdown",
   "metadata": {
    "application/vnd.databricks.v1+cell": {
     "cellMetadata": {},
     "inputWidgets": {},
     "nuid": "a45c95dc-57fd-4347-baa0-a4044281755d",
     "showTitle": false,
     "title": ""
    }
   },
   "source": [
    "In this demo, we're going to use the sales data set."
   ]
  },
  {
   "cell_type": "code",
   "execution_count": 0,
   "metadata": {
    "application/vnd.databricks.v1+cell": {
     "cellMetadata": {},
     "inputWidgets": {},
     "nuid": "f8a321c2-a892-403b-9117-0cc139592ac5",
     "showTitle": false,
     "title": ""
    }
   },
   "outputs": [
    {
     "data": {
      "text/html": [
       "<style scoped>\n",
       "  .table-result-container {\n",
       "    max-height: 300px;\n",
       "    overflow: auto;\n",
       "  }\n",
       "  table, th, td {\n",
       "    border: 1px solid black;\n",
       "    border-collapse: collapse;\n",
       "  }\n",
       "  th, td {\n",
       "    padding: 5px;\n",
       "  }\n",
       "  th {\n",
       "    text-align: left;\n",
       "  }\n",
       "</style><div class='table-result-container'><table class='table-result'><thead style='background-color: white'><tr><th>order_id</th><th>email</th><th>transaction_timestamp</th><th>total_item_quantity</th><th>purchase_revenue_in_usd</th><th>unique_items</th><th>items</th></tr></thead><tbody><tr><td>257437</td><td>kmunoz@powell-duran.com</td><td>1592194221828900</td><td>1</td><td>1995.0</td><td>1</td><td>List(List(null, M_PREM_K, Premium King Mattress, 1995.0, 1995.0, 1))</td></tr><tr><td>282611</td><td>bmurillo@hotmail.com</td><td>1592504237604072</td><td>1</td><td>940.5</td><td>1</td><td>List(List(NEWBED10, M_STAN_Q, Standard Queen Mattress, 940.5, 1045.0, 1))</td></tr><tr><td>257448</td><td>bradley74@gmail.com</td><td>1592200438030141</td><td>1</td><td>945.0</td><td>1</td><td>List(List(null, M_STAN_F, Standard Full Mattress, 945.0, 945.0, 1))</td></tr></tbody></table></div>"
      ]
     },
     "metadata": {
      "application/vnd.databricks.v1+output": {
       "addedWidgets": {},
       "aggData": [],
       "aggError": "",
       "aggOverflow": false,
       "aggSchema": [],
       "aggSeriesLimitReached": false,
       "aggType": "",
       "arguments": {},
       "columnCustomDisplayInfos": {},
       "data": [
        [
         257437,
         "kmunoz@powell-duran.com",
         1592194221828900,
         1,
         1995,
         1,
         [
          [
           null,
           "M_PREM_K",
           "Premium King Mattress",
           1995,
           1995,
           1
          ]
         ]
        ],
        [
         282611,
         "bmurillo@hotmail.com",
         1592504237604072,
         1,
         940.5,
         1,
         [
          [
           "NEWBED10",
           "M_STAN_Q",
           "Standard Queen Mattress",
           940.5,
           1045,
           1
          ]
         ]
        ],
        [
         257448,
         "bradley74@gmail.com",
         1592200438030141,
         1,
         945,
         1,
         [
          [
           null,
           "M_STAN_F",
           "Standard Full Mattress",
           945,
           945,
           1
          ]
         ]
        ]
       ],
       "datasetInfos": [],
       "dbfsResultPath": null,
       "isJsonSchema": true,
       "metadata": {},
       "overflow": false,
       "plotOptions": {
        "customPlotOptions": {},
        "displayType": "table",
        "pivotAggregation": null,
        "pivotColumns": [],
        "xColumns": [],
        "yColumns": []
       },
       "removedWidgets": [],
       "schema": [
        {
         "metadata": "{}",
         "name": "order_id",
         "type": "\"long\""
        },
        {
         "metadata": "{}",
         "name": "email",
         "type": "\"string\""
        },
        {
         "metadata": "{}",
         "name": "transaction_timestamp",
         "type": "\"long\""
        },
        {
         "metadata": "{}",
         "name": "total_item_quantity",
         "type": "\"long\""
        },
        {
         "metadata": "{}",
         "name": "purchase_revenue_in_usd",
         "type": "\"double\""
        },
        {
         "metadata": "{}",
         "name": "unique_items",
         "type": "\"long\""
        },
        {
         "metadata": "{}",
         "name": "items",
         "type": "{\"type\":\"array\",\"elementType\":{\"type\":\"struct\",\"fields\":[{\"name\":\"coupon\",\"type\":\"string\",\"nullable\":true,\"metadata\":{}},{\"name\":\"item_id\",\"type\":\"string\",\"nullable\":true,\"metadata\":{}},{\"name\":\"item_name\",\"type\":\"string\",\"nullable\":true,\"metadata\":{}},{\"name\":\"item_revenue_in_usd\",\"type\":\"double\",\"nullable\":true,\"metadata\":{}},{\"name\":\"price_in_usd\",\"type\":\"double\",\"nullable\":true,\"metadata\":{}},{\"name\":\"quantity\",\"type\":\"long\",\"nullable\":true,\"metadata\":{}}]},\"containsNull\":true}"
        }
       ],
       "type": "table"
      }
     },
     "output_type": "display_data"
    }
   ],
   "source": [
    "df = spark.read.parquet(salesPath)\n",
    "display(df.take(3))"
   ]
  },
  {
   "cell_type": "markdown",
   "metadata": {
    "application/vnd.databricks.v1+cell": {
     "cellMetadata": {},
     "inputWidgets": {},
     "nuid": "233d61e1-ba1e-4e86-8663-517ebf4eb613",
     "showTitle": false,
     "title": ""
    }
   },
   "source": [
    "### String Functions\n",
    "Here are some of the built-in functions available for manipulating strings.\n",
    "\n",
    "| Method | Description |\n",
    "| --- | --- |\n",
    "| translate | Translate any character in the src by a character in replaceString |\n",
    "| regexp_replace | Replace all substrings of the specified string value that match regexp with rep |\n",
    "| regexp_extract | Extract a specific group matched by a Java regex, from the specified string column |\n",
    "| ltrim | Removes the leading space characters from the specified string column |\n",
    "| lower | Converts a string column to lowercase |\n",
    "| split | Splits str around matches of the given pattern |"
   ]
  },
  {
   "cell_type": "markdown",
   "metadata": {
    "application/vnd.databricks.v1+cell": {
     "cellMetadata": {},
     "inputWidgets": {},
     "nuid": "6391f47b-6b70-48c6-8dfb-f641ee6eefed",
     "showTitle": false,
     "title": ""
    }
   },
   "source": [
    "### Collection Functions\n",
    "\n",
    "Here are some of the built-in functions available for working with arrays.\n",
    "\n",
    "| Method | Description |\n",
    "| --- | --- |\n",
    "| array_contains | Returns null if the array is null, true if the array contains value, and false otherwise. |\n",
    "| element_at | Returns element of array at given index. Array elements are numbered starting with **1**. |\n",
    "| explode | Creates a new row for each element in the given array or map column. |\n",
    "| collect_set | Returns a set of objects with duplicate elements eliminated. |"
   ]
  },
  {
   "cell_type": "markdown",
   "metadata": {
    "application/vnd.databricks.v1+cell": {
     "cellMetadata": {},
     "inputWidgets": {},
     "nuid": "33799ea5-93a3-4b69-8268-22e776e36c42",
     "showTitle": false,
     "title": ""
    }
   },
   "source": [
    "### Aggregate Functions\n",
    "\n",
    "Here are some of the built-in aggregate functions available for creating arrays, typically from GroupedData.\n",
    "\n",
    "| Method | Description |\n",
    "| --- | --- |\n",
    "| collect_list | Returns an array consisting of all values within the group. |\n",
    "| collect_set | Returns an array consisting of all unique values within the group. |"
   ]
  },
  {
   "cell_type": "markdown",
   "metadata": {
    "application/vnd.databricks.v1+cell": {
     "cellMetadata": {},
     "inputWidgets": {},
     "nuid": "29b94680-4194-4f29-9235-a0d62f988ec1",
     "showTitle": false,
     "title": ""
    }
   },
   "source": [
    "# User Purchases\n",
    "\n",
    "List all size and quality options purchased by each buyer.\n",
    "1. Extract item details from purchases\n",
    "2. Extract size and quality options from mattress purchases\n",
    "3. Extract size and quality options from pillow purchases\n",
    "4. Combine data for mattress and pillows\n",
    "5. List all size and quality options bought by each user"
   ]
  },
  {
   "cell_type": "markdown",
   "metadata": {
    "application/vnd.databricks.v1+cell": {
     "cellMetadata": {},
     "inputWidgets": {},
     "nuid": "a9d9617b-b8a6-47ad-b21c-c6f24dfc70e6",
     "showTitle": false,
     "title": ""
    }
   },
   "source": [
    "### 1. Extract item details from purchases\n",
    "\n",
    "- Explode the **`items`** field in **`df`** with the results replacing the existing **`items`** field\n",
    "- Select the **`email`** and **`item.item_name`** fields\n",
    "- Split the words in **`item_name`** into an array and alias the column to \"details\"\n",
    "\n",
    "Assign the resulting DataFrame to **`detailsDF`**."
   ]
  },
  {
   "cell_type": "code",
   "execution_count": 0,
   "metadata": {
    "application/vnd.databricks.v1+cell": {
     "cellMetadata": {},
     "inputWidgets": {},
     "nuid": "93947a79-c886-4be1-bb44-b789c36cedf5",
     "showTitle": false,
     "title": ""
    }
   },
   "outputs": [],
   "source": [
    "from pyspark.sql.functions import *\n",
    "\n",
    "detailsDF = (df\n",
    "             .withColumn(\"items\", explode(\"items\"))\n",
    "             .select(\"email\", \"items.item_name\")\n",
    "             .withColumn(\"details\", split(col(\"item_name\"), \" \"))\n",
    "            )\n",
    "#display(detailsDF)"
   ]
  },
  {
   "cell_type": "markdown",
   "metadata": {
    "application/vnd.databricks.v1+cell": {
     "cellMetadata": {},
     "inputWidgets": {},
     "nuid": "35d8e57f-a3ef-4d1c-8a76-04fa854bdd1a",
     "showTitle": false,
     "title": ""
    }
   },
   "source": [
    "So you can see that our **`details`** column is now an array containing the quality, size, and object type."
   ]
  },
  {
   "cell_type": "markdown",
   "metadata": {
    "application/vnd.databricks.v1+cell": {
     "cellMetadata": {},
     "inputWidgets": {},
     "nuid": "49115536-f283-4b4e-b395-632d1db21a94",
     "showTitle": false,
     "title": ""
    }
   },
   "source": [
    "### 2. Extract size and quality options from mattress purchases\n",
    "\n",
    "- Filter **`detailsDF`** for records where **`details`** contains \"Mattress\"\n",
    "- Add a **`size`** column by extracting the element at position 2\n",
    "- Add a **`quality`** column by extracting the element at position 1\n",
    "\n",
    "Save the result as **`mattressDF`**."
   ]
  },
  {
   "cell_type": "code",
   "execution_count": 0,
   "metadata": {
    "application/vnd.databricks.v1+cell": {
     "cellMetadata": {},
     "inputWidgets": {},
     "nuid": "53620670-c84a-410f-ad53-ae51662e4e81",
     "showTitle": false,
     "title": ""
    }
   },
   "outputs": [
    {
     "data": {
      "text/html": [
       "<style scoped>\n",
       "  .table-result-container {\n",
       "    max-height: 300px;\n",
       "    overflow: auto;\n",
       "  }\n",
       "  table, th, td {\n",
       "    border: 1px solid black;\n",
       "    border-collapse: collapse;\n",
       "  }\n",
       "  th, td {\n",
       "    padding: 5px;\n",
       "  }\n",
       "  th {\n",
       "    text-align: left;\n",
       "  }\n",
       "</style><div class='table-result-container'><table class='table-result'><thead style='background-color: white'><tr><th>email</th><th>item_name</th><th>details</th><th>size</th><th>quality</th></tr></thead><tbody><tr><td>kmunoz@powell-duran.com</td><td>Premium King Mattress</td><td>List(Premium, King, Mattress)</td><td>King</td><td>Premium</td></tr><tr><td>bmurillo@hotmail.com</td><td>Standard Queen Mattress</td><td>List(Standard, Queen, Mattress)</td><td>Queen</td><td>Standard</td></tr><tr><td>bradley74@gmail.com</td><td>Standard Full Mattress</td><td>List(Standard, Full, Mattress)</td><td>Full</td><td>Standard</td></tr></tbody></table></div>"
      ]
     },
     "metadata": {
      "application/vnd.databricks.v1+output": {
       "addedWidgets": {},
       "aggData": [],
       "aggError": "",
       "aggOverflow": false,
       "aggSchema": [],
       "aggSeriesLimitReached": false,
       "aggType": "",
       "arguments": {},
       "columnCustomDisplayInfos": {},
       "data": [
        [
         "kmunoz@powell-duran.com",
         "Premium King Mattress",
         [
          "Premium",
          "King",
          "Mattress"
         ],
         "King",
         "Premium"
        ],
        [
         "bmurillo@hotmail.com",
         "Standard Queen Mattress",
         [
          "Standard",
          "Queen",
          "Mattress"
         ],
         "Queen",
         "Standard"
        ],
        [
         "bradley74@gmail.com",
         "Standard Full Mattress",
         [
          "Standard",
          "Full",
          "Mattress"
         ],
         "Full",
         "Standard"
        ]
       ],
       "datasetInfos": [],
       "dbfsResultPath": null,
       "isJsonSchema": true,
       "metadata": {},
       "overflow": false,
       "plotOptions": {
        "customPlotOptions": {},
        "displayType": "table",
        "pivotAggregation": null,
        "pivotColumns": [],
        "xColumns": [],
        "yColumns": []
       },
       "removedWidgets": [],
       "schema": [
        {
         "metadata": "{}",
         "name": "email",
         "type": "\"string\""
        },
        {
         "metadata": "{}",
         "name": "item_name",
         "type": "\"string\""
        },
        {
         "metadata": "{}",
         "name": "details",
         "type": "{\"type\":\"array\",\"elementType\":\"string\",\"containsNull\":true}"
        },
        {
         "metadata": "{}",
         "name": "size",
         "type": "\"string\""
        },
        {
         "metadata": "{}",
         "name": "quality",
         "type": "\"string\""
        }
       ],
       "type": "table"
      }
     },
     "output_type": "display_data"
    }
   ],
   "source": [
    "mattressDF = (detailsDF\n",
    "              .filter(array_contains(col(\"details\"), \"Mattress\"))\n",
    "              .withColumn(\"size\", element_at(col(\"details\"), 2))\n",
    "              .withColumn(\"quality\", element_at(col(\"details\"), 1))\n",
    "             )\n",
    "display(mattressDF.take(3))"
   ]
  },
  {
   "cell_type": "code",
   "execution_count": 0,
   "metadata": {
    "application/vnd.databricks.v1+cell": {
     "cellMetadata": {},
     "inputWidgets": {},
     "nuid": "6bacfebd-ece5-4c27-beb6-569a826b1bb0",
     "showTitle": false,
     "title": ""
    }
   },
   "outputs": [
    {
     "data": {
      "text/html": [
       "<style scoped>\n",
       "  .table-result-container {\n",
       "    max-height: 300px;\n",
       "    overflow: auto;\n",
       "  }\n",
       "  table, th, td {\n",
       "    border: 1px solid black;\n",
       "    border-collapse: collapse;\n",
       "  }\n",
       "  th, td {\n",
       "    padding: 5px;\n",
       "  }\n",
       "  th {\n",
       "    text-align: left;\n",
       "  }\n",
       "</style><div class='table-result-container'><table class='table-result'><thead style='background-color: white'><tr><th>email</th><th>item_name</th><th>details</th><th>size</th><th>quality</th></tr></thead><tbody><tr><td>kmunoz@powell-duran.com</td><td>Premium King Mattress</td><td>List(Premium, King, Mattress)</td><td>King</td><td>Premium</td></tr><tr><td>bmurillo@hotmail.com</td><td>Standard Queen Mattress</td><td>List(Standard, Queen, Mattress)</td><td>Queen</td><td>Standard</td></tr><tr><td>bradley74@gmail.com</td><td>Standard Full Mattress</td><td>List(Standard, Full, Mattress)</td><td>Full</td><td>Standard</td></tr></tbody></table></div>"
      ]
     },
     "metadata": {
      "application/vnd.databricks.v1+output": {
       "addedWidgets": {},
       "aggData": [],
       "aggError": "",
       "aggOverflow": false,
       "aggSchema": [],
       "aggSeriesLimitReached": false,
       "aggType": "",
       "arguments": {},
       "columnCustomDisplayInfos": {},
       "data": [
        [
         "kmunoz@powell-duran.com",
         "Premium King Mattress",
         [
          "Premium",
          "King",
          "Mattress"
         ],
         "King",
         "Premium"
        ],
        [
         "bmurillo@hotmail.com",
         "Standard Queen Mattress",
         [
          "Standard",
          "Queen",
          "Mattress"
         ],
         "Queen",
         "Standard"
        ],
        [
         "bradley74@gmail.com",
         "Standard Full Mattress",
         [
          "Standard",
          "Full",
          "Mattress"
         ],
         "Full",
         "Standard"
        ]
       ],
       "datasetInfos": [],
       "dbfsResultPath": null,
       "isJsonSchema": true,
       "metadata": {},
       "overflow": false,
       "plotOptions": {
        "customPlotOptions": {},
        "displayType": "table",
        "pivotAggregation": null,
        "pivotColumns": null,
        "xColumns": null,
        "yColumns": null
       },
       "removedWidgets": [],
       "schema": [
        {
         "metadata": "{}",
         "name": "email",
         "type": "\"string\""
        },
        {
         "metadata": "{}",
         "name": "item_name",
         "type": "\"string\""
        },
        {
         "metadata": "{}",
         "name": "details",
         "type": "{\"type\":\"array\",\"elementType\":\"string\",\"containsNull\":true}"
        },
        {
         "metadata": "{}",
         "name": "size",
         "type": "\"string\""
        },
        {
         "metadata": "{}",
         "name": "quality",
         "type": "\"string\""
        }
       ],
       "type": "table"
      }
     },
     "output_type": "display_data"
    }
   ],
   "source": [
    "mattressDF = (detailsDF.filter(array_contains(col(\"details\"), \"Mattress\"))\n",
    "         .withColumn(\"size\", element_at(col(\"details\"), 2))\n",
    "         .withColumn(\"quality\", element_at(col(\"details\"), 1))\n",
    "    )\n",
    "\n",
    "display(mattressDF.take(3))"
   ]
  },
  {
   "cell_type": "markdown",
   "metadata": {
    "application/vnd.databricks.v1+cell": {
     "cellMetadata": {},
     "inputWidgets": {},
     "nuid": "063c4207-b710-40c6-ac0e-312800fedc29",
     "showTitle": false,
     "title": ""
    }
   },
   "source": [
    "Next we're going to do the same thing for pillow purchases."
   ]
  },
  {
   "cell_type": "markdown",
   "metadata": {
    "application/vnd.databricks.v1+cell": {
     "cellMetadata": {},
     "inputWidgets": {},
     "nuid": "c4f89108-f859-4ddc-8278-47a1ebab6e01",
     "showTitle": false,
     "title": ""
    }
   },
   "source": [
    "### 3. Extract size and quality options from pillow purchases\n",
    "- Filter **`detailsDF`** for records where **`details`** contains \"Pillow\"\n",
    "- Add a **`size`** column by extracting the element at position 1\n",
    "- Add a **`quality`** column by extracting the element at position 2\n",
    "\n",
    "Note the positions of **`size`** and **`quality`** are switched for mattresses and pillows.\n",
    "\n",
    "Save result as **`pillowDF`**."
   ]
  },
  {
   "cell_type": "code",
   "execution_count": 0,
   "metadata": {
    "application/vnd.databricks.v1+cell": {
     "cellMetadata": {},
     "inputWidgets": {},
     "nuid": "b2651067-c178-4758-aa8c-6705fad1a588",
     "showTitle": false,
     "title": ""
    }
   },
   "outputs": [
    {
     "data": {
      "text/html": [
       "<style scoped>\n",
       "  .table-result-container {\n",
       "    max-height: 300px;\n",
       "    overflow: auto;\n",
       "  }\n",
       "  table, th, td {\n",
       "    border: 1px solid black;\n",
       "    border-collapse: collapse;\n",
       "  }\n",
       "  th, td {\n",
       "    padding: 5px;\n",
       "  }\n",
       "  th {\n",
       "    text-align: left;\n",
       "  }\n",
       "</style><div class='table-result-container'><table class='table-result'><thead style='background-color: white'><tr><th>email</th><th>item_name</th><th>details</th><th>size</th><th>quality</th></tr></thead><tbody><tr><td>maxwelltara@edwards.com</td><td>Standard Foam Pillow</td><td>List(Standard, Foam, Pillow)</td><td>Standard</td><td>Foam</td></tr><tr><td>marmstrong46@hotmail.com</td><td>Standard Foam Pillow</td><td>List(Standard, Foam, Pillow)</td><td>Standard</td><td>Foam</td></tr><tr><td>johnsonderrick@yahoo.com</td><td>King Down Pillow</td><td>List(King, Down, Pillow)</td><td>King</td><td>Down</td></tr></tbody></table></div>"
      ]
     },
     "metadata": {
      "application/vnd.databricks.v1+output": {
       "addedWidgets": {},
       "aggData": [],
       "aggError": "",
       "aggOverflow": false,
       "aggSchema": [],
       "aggSeriesLimitReached": false,
       "aggType": "",
       "arguments": {},
       "columnCustomDisplayInfos": {},
       "data": [
        [
         "maxwelltara@edwards.com",
         "Standard Foam Pillow",
         [
          "Standard",
          "Foam",
          "Pillow"
         ],
         "Standard",
         "Foam"
        ],
        [
         "marmstrong46@hotmail.com",
         "Standard Foam Pillow",
         [
          "Standard",
          "Foam",
          "Pillow"
         ],
         "Standard",
         "Foam"
        ],
        [
         "johnsonderrick@yahoo.com",
         "King Down Pillow",
         [
          "King",
          "Down",
          "Pillow"
         ],
         "King",
         "Down"
        ]
       ],
       "datasetInfos": [],
       "dbfsResultPath": null,
       "isJsonSchema": true,
       "metadata": {},
       "overflow": false,
       "plotOptions": {
        "customPlotOptions": {},
        "displayType": "table",
        "pivotAggregation": null,
        "pivotColumns": [],
        "xColumns": [],
        "yColumns": []
       },
       "removedWidgets": [],
       "schema": [
        {
         "metadata": "{}",
         "name": "email",
         "type": "\"string\""
        },
        {
         "metadata": "{}",
         "name": "item_name",
         "type": "\"string\""
        },
        {
         "metadata": "{}",
         "name": "details",
         "type": "{\"type\":\"array\",\"elementType\":\"string\",\"containsNull\":true}"
        },
        {
         "metadata": "{}",
         "name": "size",
         "type": "\"string\""
        },
        {
         "metadata": "{}",
         "name": "quality",
         "type": "\"string\""
        }
       ],
       "type": "table"
      }
     },
     "output_type": "display_data"
    }
   ],
   "source": [
    "pillowDF = (detailsDF\n",
    "            .filter(array_contains(col(\"details\"), \"Pillow\"))\n",
    "            .withColumn(\"size\", element_at(col(\"details\"), 1))\n",
    "            .withColumn(\"quality\", element_at(col(\"details\"), 2))\n",
    "           )\n",
    "display(pillowDF.take(3))"
   ]
  },
  {
   "cell_type": "code",
   "execution_count": 0,
   "metadata": {
    "application/vnd.databricks.v1+cell": {
     "cellMetadata": {},
     "inputWidgets": {},
     "nuid": "c6829e7f-1cc2-4513-a386-a9c74bbc6b27",
     "showTitle": false,
     "title": ""
    }
   },
   "outputs": [
    {
     "data": {
      "text/html": [
       "<style scoped>\n",
       "  .table-result-container {\n",
       "    max-height: 300px;\n",
       "    overflow: auto;\n",
       "  }\n",
       "  table, th, td {\n",
       "    border: 1px solid black;\n",
       "    border-collapse: collapse;\n",
       "  }\n",
       "  th, td {\n",
       "    padding: 5px;\n",
       "  }\n",
       "  th {\n",
       "    text-align: left;\n",
       "  }\n",
       "</style><div class='table-result-container'><table class='table-result'><thead style='background-color: white'><tr><th>email</th><th>item_name</th><th>details</th><th>size</th><th>quality</th></tr></thead><tbody><tr><td>maxwelltara@edwards.com</td><td>Standard Foam Pillow</td><td>List(Standard, Foam, Pillow)</td><td>Standard</td><td>Foam</td></tr><tr><td>marmstrong46@hotmail.com</td><td>Standard Foam Pillow</td><td>List(Standard, Foam, Pillow)</td><td>Standard</td><td>Foam</td></tr><tr><td>johnsonderrick@yahoo.com</td><td>King Down Pillow</td><td>List(King, Down, Pillow)</td><td>King</td><td>Down</td></tr></tbody></table></div>"
      ]
     },
     "metadata": {
      "application/vnd.databricks.v1+output": {
       "addedWidgets": {},
       "aggData": [],
       "aggError": "",
       "aggOverflow": false,
       "aggSchema": [],
       "aggSeriesLimitReached": false,
       "aggType": "",
       "arguments": {},
       "columnCustomDisplayInfos": {},
       "data": [
        [
         "maxwelltara@edwards.com",
         "Standard Foam Pillow",
         [
          "Standard",
          "Foam",
          "Pillow"
         ],
         "Standard",
         "Foam"
        ],
        [
         "marmstrong46@hotmail.com",
         "Standard Foam Pillow",
         [
          "Standard",
          "Foam",
          "Pillow"
         ],
         "Standard",
         "Foam"
        ],
        [
         "johnsonderrick@yahoo.com",
         "King Down Pillow",
         [
          "King",
          "Down",
          "Pillow"
         ],
         "King",
         "Down"
        ]
       ],
       "datasetInfos": [],
       "dbfsResultPath": null,
       "isJsonSchema": true,
       "metadata": {},
       "overflow": false,
       "plotOptions": {
        "customPlotOptions": {},
        "displayType": "table",
        "pivotAggregation": null,
        "pivotColumns": null,
        "xColumns": null,
        "yColumns": null
       },
       "removedWidgets": [],
       "schema": [
        {
         "metadata": "{}",
         "name": "email",
         "type": "\"string\""
        },
        {
         "metadata": "{}",
         "name": "item_name",
         "type": "\"string\""
        },
        {
         "metadata": "{}",
         "name": "details",
         "type": "{\"type\":\"array\",\"elementType\":\"string\",\"containsNull\":true}"
        },
        {
         "metadata": "{}",
         "name": "size",
         "type": "\"string\""
        },
        {
         "metadata": "{}",
         "name": "quality",
         "type": "\"string\""
        }
       ],
       "type": "table"
      }
     },
     "output_type": "display_data"
    }
   ],
   "source": [
    "pillowDF = (detailsDF.filter(array_contains(col(\"details\"), \"Pillow\"))\n",
    "          .withColumn(\"size\", element_at(col(\"details\"), 1))\n",
    "          .withColumn(\"quality\", element_at(col(\"details\"), 2))\n",
    ")\n",
    "\n",
    "display(pillowDF.take(3))"
   ]
  },
  {
   "cell_type": "markdown",
   "metadata": {
    "application/vnd.databricks.v1+cell": {
     "cellMetadata": {},
     "inputWidgets": {},
     "nuid": "e8c7d938-b36f-4564-a22f-f17a5b636093",
     "showTitle": false,
     "title": ""
    }
   },
   "source": [
    "### 4. Combine data for mattress and pillows\n",
    "\n",
    "- Perform a union on **`mattressDF`** and **`pillowDF`** by column names\n",
    "- Drop the **`details`** column\n",
    "\n",
    "Save the result as **`unionDF`**.\n",
    "\n",
    "<img src=\"https://files.training.databricks.com/images/icon_warn_32.png\" alt=\"Warning\"> The DataFrame <a href=\"https://spark.apache.org/docs/latest/api/python/reference/api/pyspark.sql.DataFrame.union.html\" target=\"_blank\">`union`</a> method resolves columns by position, as in standard SQL. You should use it only if the two DataFrames have exactly the same schema, including the column order. In contrast, the DataFrame <a href=\"https://spark.apache.org/docs/latest/api/python/reference/api/pyspark.sql.DataFrame.unionByName.html\" target=\"_blank\">`unionByName`</a> method resolves columns by name."
   ]
  },
  {
   "cell_type": "code",
   "execution_count": 0,
   "metadata": {
    "application/vnd.databricks.v1+cell": {
     "cellMetadata": {},
     "inputWidgets": {},
     "nuid": "4de2a742-c5b4-4af2-979a-a1ddac02d730",
     "showTitle": false,
     "title": ""
    }
   },
   "outputs": [],
   "source": [
    "unionDF = mattressDF.unionByName(pillowDF).drop(\"details\")\n",
    "display(unionDF)"
   ]
  },
  {
   "cell_type": "code",
   "execution_count": 0,
   "metadata": {
    "application/vnd.databricks.v1+cell": {
     "cellMetadata": {},
     "inputWidgets": {},
     "nuid": "73b0639f-ef6e-47ae-932f-f9c37971c779",
     "showTitle": false,
     "title": ""
    }
   },
   "outputs": [
    {
     "data": {
      "text/html": [
       "<style scoped>\n",
       "  .table-result-container {\n",
       "    max-height: 300px;\n",
       "    overflow: auto;\n",
       "  }\n",
       "  table, th, td {\n",
       "    border: 1px solid black;\n",
       "    border-collapse: collapse;\n",
       "  }\n",
       "  th, td {\n",
       "    padding: 5px;\n",
       "  }\n",
       "  th {\n",
       "    text-align: left;\n",
       "  }\n",
       "</style><div class='table-result-container'><table class='table-result'><thead style='background-color: white'><tr><th>email</th><th>item_name</th><th>size</th><th>quality</th></tr></thead><tbody><tr><td>kmunoz@powell-duran.com</td><td>Premium King Mattress</td><td>King</td><td>Premium</td></tr><tr><td>bmurillo@hotmail.com</td><td>Standard Queen Mattress</td><td>Queen</td><td>Standard</td></tr><tr><td>bradley74@gmail.com</td><td>Standard Full Mattress</td><td>Full</td><td>Standard</td></tr></tbody></table></div>"
      ]
     },
     "metadata": {
      "application/vnd.databricks.v1+output": {
       "addedWidgets": {},
       "aggData": [],
       "aggError": "",
       "aggOverflow": false,
       "aggSchema": [],
       "aggSeriesLimitReached": false,
       "aggType": "",
       "arguments": {},
       "columnCustomDisplayInfos": {},
       "data": [
        [
         "kmunoz@powell-duran.com",
         "Premium King Mattress",
         "King",
         "Premium"
        ],
        [
         "bmurillo@hotmail.com",
         "Standard Queen Mattress",
         "Queen",
         "Standard"
        ],
        [
         "bradley74@gmail.com",
         "Standard Full Mattress",
         "Full",
         "Standard"
        ]
       ],
       "datasetInfos": [],
       "dbfsResultPath": null,
       "isJsonSchema": true,
       "metadata": {},
       "overflow": false,
       "plotOptions": {
        "customPlotOptions": {},
        "displayType": "table",
        "pivotAggregation": null,
        "pivotColumns": null,
        "xColumns": null,
        "yColumns": null
       },
       "removedWidgets": [],
       "schema": [
        {
         "metadata": "{}",
         "name": "email",
         "type": "\"string\""
        },
        {
         "metadata": "{}",
         "name": "item_name",
         "type": "\"string\""
        },
        {
         "metadata": "{}",
         "name": "size",
         "type": "\"string\""
        },
        {
         "metadata": "{}",
         "name": "quality",
         "type": "\"string\""
        }
       ],
       "type": "table"
      }
     },
     "output_type": "display_data"
    }
   ],
   "source": [
    "unionDF = mattressDF.unionByName(pillowDF).drop(\"details\")\n",
    "display(unionDF.take(3))"
   ]
  },
  {
   "cell_type": "markdown",
   "metadata": {
    "application/vnd.databricks.v1+cell": {
     "cellMetadata": {},
     "inputWidgets": {},
     "nuid": "e776266f-adf7-4e77-886c-7614e9306e74",
     "showTitle": false,
     "title": ""
    }
   },
   "source": [
    "### 5. List all size and quality options bought by each user\n",
    "\n",
    "- Group rows in **`unionDF`** by **`email`**\n",
    "  - Collect the set of all items in **`size`** for each user and alias the column to \"size options\"\n",
    "  - Collect the set of all items in **`quality`** for each user and alias the column to \"quality options\"\n",
    "\n",
    "Save the result as **`optionsDF`**."
   ]
  },
  {
   "cell_type": "code",
   "execution_count": 0,
   "metadata": {
    "application/vnd.databricks.v1+cell": {
     "cellMetadata": {},
     "inputWidgets": {},
     "nuid": "878763c0-931e-4fe2-ab9b-feb7380aaf55",
     "showTitle": false,
     "title": ""
    }
   },
   "outputs": [],
   "source": [
    "optionsDF = (unionDF\n",
    "             .groupBy(\"email\")\n",
    "             .agg(collect_set(\"size\").alias(\"size options\"),\n",
    "                  collect_set(\"quality\").alias(\"quality options\"))\n",
    "            )\n",
    "display(optionsDF)"
   ]
  },
  {
   "cell_type": "code",
   "execution_count": 0,
   "metadata": {
    "application/vnd.databricks.v1+cell": {
     "cellMetadata": {},
     "inputWidgets": {},
     "nuid": "c277aaaf-b9c5-4bbd-a1d0-41281ab2d753",
     "showTitle": false,
     "title": ""
    }
   },
   "outputs": [
    {
     "data": {
      "text/html": [
       "<style scoped>\n",
       "  .table-result-container {\n",
       "    max-height: 300px;\n",
       "    overflow: auto;\n",
       "  }\n",
       "  table, th, td {\n",
       "    border: 1px solid black;\n",
       "    border-collapse: collapse;\n",
       "  }\n",
       "  th, td {\n",
       "    padding: 5px;\n",
       "  }\n",
       "  th {\n",
       "    text-align: left;\n",
       "  }\n",
       "</style><div class='table-result-container'><table class='table-result'><thead style='background-color: white'><tr><th>email</th><th>size options</th><th>quality options</th></tr></thead><tbody><tr><td>aadkins@hill.biz</td><td>List(Twin)</td><td>List(Standard)</td></tr><tr><td>aalexander@hotmail.com</td><td>List(King)</td><td>List(Standard)</td></tr><tr><td>aalexander@smith.com</td><td>List(Full)</td><td>List(Standard)</td></tr></tbody></table></div>"
      ]
     },
     "metadata": {
      "application/vnd.databricks.v1+output": {
       "addedWidgets": {},
       "aggData": [],
       "aggError": "",
       "aggOverflow": false,
       "aggSchema": [],
       "aggSeriesLimitReached": false,
       "aggType": "",
       "arguments": {},
       "columnCustomDisplayInfos": {},
       "data": [
        [
         "aadkins@hill.biz",
         [
          "Twin"
         ],
         [
          "Standard"
         ]
        ],
        [
         "aalexander@hotmail.com",
         [
          "King"
         ],
         [
          "Standard"
         ]
        ],
        [
         "aalexander@smith.com",
         [
          "Full"
         ],
         [
          "Standard"
         ]
        ]
       ],
       "datasetInfos": [],
       "dbfsResultPath": null,
       "isJsonSchema": true,
       "metadata": {},
       "overflow": false,
       "plotOptions": {
        "customPlotOptions": {},
        "displayType": "table",
        "pivotAggregation": null,
        "pivotColumns": null,
        "xColumns": null,
        "yColumns": null
       },
       "removedWidgets": [],
       "schema": [
        {
         "metadata": "{}",
         "name": "email",
         "type": "\"string\""
        },
        {
         "metadata": "{}",
         "name": "size options",
         "type": "{\"type\":\"array\",\"elementType\":\"string\",\"containsNull\":true}"
        },
        {
         "metadata": "{}",
         "name": "quality options",
         "type": "{\"type\":\"array\",\"elementType\":\"string\",\"containsNull\":true}"
        }
       ],
       "type": "table"
      }
     },
     "output_type": "display_data"
    }
   ],
   "source": [
    "optionsDF = (unionDF.groupBy(col(\"email\"))\n",
    "                    .agg(collect_set(col(\"size\")).alias(\"size options\"),\n",
    "                         collect_set(col(\"quality\")).alias(\"quality options\"))\n",
    "               )\n",
    "             \n",
    "display(optionsDF.take(3))"
   ]
  },
  {
   "cell_type": "markdown",
   "metadata": {
    "application/vnd.databricks.v1+cell": {
     "cellMetadata": {},
     "inputWidgets": {},
     "nuid": "095825a3-2272-4b11-993d-0ff75e72de34",
     "showTitle": false,
     "title": ""
    }
   },
   "source": [
    "### Clean up classroom\n",
    "\n",
    "And lastly, we'll clean up the classroom."
   ]
  },
  {
   "cell_type": "code",
   "execution_count": 0,
   "metadata": {
    "application/vnd.databricks.v1+cell": {
     "cellMetadata": {},
     "inputWidgets": {},
     "nuid": "fb40e4a0-2c28-4022-a5fb-4b910bbcf08a",
     "showTitle": false,
     "title": ""
    }
   },
   "outputs": [],
   "source": [
    "%run ./Includes/Classroom-Cleanup"
   ]
  },
  {
   "cell_type": "code",
   "execution_count": 0,
   "metadata": {
    "application/vnd.databricks.v1+cell": {
     "cellMetadata": {
      "implicitDf": true
     },
     "inputWidgets": {},
     "nuid": "1d4bfc9a-be0b-43e8-85c9-fc01d87aa47e",
     "showTitle": false,
     "title": ""
    }
   },
   "outputs": [
    {
     "data": {
      "text/html": [
       "<style scoped>\n",
       "  .table-result-container {\n",
       "    max-height: 300px;\n",
       "    overflow: auto;\n",
       "  }\n",
       "  table, th, td {\n",
       "    border: 1px solid black;\n",
       "    border-collapse: collapse;\n",
       "  }\n",
       "  th, td {\n",
       "    padding: 5px;\n",
       "  }\n",
       "  th {\n",
       "    text-align: left;\n",
       "  }\n",
       "</style><div class='table-result-container'><table class='table-result'><thead style='background-color: white'><tr></tr></thead><tbody></tbody></table></div>"
      ]
     },
     "metadata": {
      "application/vnd.databricks.v1+output": {
       "addedWidgets": {},
       "aggData": [],
       "aggError": "",
       "aggOverflow": false,
       "aggSchema": [],
       "aggSeriesLimitReached": false,
       "aggType": "",
       "arguments": {},
       "columnCustomDisplayInfos": {},
       "data": [],
       "datasetInfos": [],
       "dbfsResultPath": null,
       "isJsonSchema": true,
       "metadata": {},
       "overflow": false,
       "plotOptions": {
        "customPlotOptions": {},
        "displayType": "table",
        "pivotAggregation": null,
        "pivotColumns": null,
        "xColumns": null,
        "yColumns": null
       },
       "removedWidgets": [],
       "schema": [],
       "type": "table"
      }
     },
     "output_type": "display_data"
    },
    {
     "data": {
      "text/html": [
       "Dropped database and removed files in working directory"
      ]
     },
     "metadata": {
      "application/vnd.databricks.v1+output": {
       "addedWidgets": {},
       "arguments": {},
       "data": "Dropped database and removed files in working directory",
       "datasetInfos": [],
       "metadata": {},
       "removedWidgets": [],
       "textData": null,
       "type": "htmlSandbox"
      }
     },
     "output_type": "display_data"
    }
   ],
   "source": [
    "%sql\n",
    "\n",
    "DROP DATABASE dbacademy_admin_databricks_novigosolutions_com_spark_programming_asp_2_3___complex_types CASCADE"
   ]
  },
  {
   "cell_type": "markdown",
   "metadata": {
    "application/vnd.databricks.v1+cell": {
     "cellMetadata": {},
     "inputWidgets": {},
     "nuid": "22f644fc-6464-456b-b692-19cc299c425a",
     "showTitle": false,
     "title": ""
    }
   },
   "source": [
    "-sandbox\n",
    "&copy; 2022 Databricks, Inc. All rights reserved.<br/>\n",
    "Apache, Apache Spark, Spark and the Spark logo are trademarks of the <a href=\"https://www.apache.org/\">Apache Software Foundation</a>.<br/>\n",
    "<br/>\n",
    "<a href=\"https://databricks.com/privacy-policy\">Privacy Policy</a> | <a href=\"https://databricks.com/terms-of-use\">Terms of Use</a> | <a href=\"https://help.databricks.com/\">Support</a>"
   ]
  }
 ],
 "metadata": {
  "application/vnd.databricks.v1+notebook": {
   "dashboards": [],
   "language": "python",
   "notebookMetadata": {
    "mostRecentlyExecutedCommandWithImplicitDF": {
     "commandId": 1415045546200884,
     "dataframes": [
      "_sqldf"
     ]
    },
    "pythonIndentUnit": 2
   },
   "notebookName": "ASP 2.3 - Complex Types",
   "notebookOrigID": 874905206501501,
   "widgets": {}
  },
  "kernelspec": {
   "display_name": "Python 3",
   "language": "python",
   "name": "python3"
  },
  "language_info": {
   "codemirror_mode": {
    "name": "ipython",
    "version": 3
   },
   "file_extension": ".py",
   "mimetype": "text/x-python",
   "name": "python",
   "nbconvert_exporter": "python",
   "pygments_lexer": "ipython3",
   "version": "3.8.8"
  }
 },
 "nbformat": 4,
 "nbformat_minor": 1
}
