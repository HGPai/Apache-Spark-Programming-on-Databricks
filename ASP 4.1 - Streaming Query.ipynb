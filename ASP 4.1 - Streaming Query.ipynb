{
 "cells": [
  {
   "cell_type": "markdown",
   "metadata": {
    "application/vnd.databricks.v1+cell": {
     "cellMetadata": {},
     "inputWidgets": {},
     "nuid": "3d114d82-063c-4711-8b49-fcd58199bb78",
     "showTitle": false,
     "title": ""
    }
   },
   "source": [
    "# Streaming Query\n",
    "\n",
    "##### Objectives\n",
    "1. Build streaming DataFrames\n",
    "1. Display streaming query results\n",
    "1. Write streaming query results\n",
    "1. Monitor streaming query\n",
    "\n",
    "##### Classes\n",
    "- <a href=\"https://spark.apache.org/docs/latest/api/python/reference/api/pyspark.sql.streaming.DataStreamReader.html#pyspark.sql.streaming.DataStreamReader\" target=\"_blank\">DataStreamReader</a>\n",
    "- <a href=\"https://spark.apache.org/docs/latest/api/python/reference/api/pyspark.sql.streaming.DataStreamWriter.html#pyspark.sql.streaming.DataStreamWriter\" target=\"_blank\">DataStreamWriter</a>\n",
    "- <a href=\"https://spark.apache.org/docs/latest/api/python/reference/api/pyspark.sql.streaming.StreamingQuery.html#pyspark.sql.streaming.StreamingQuery\" target=\"_blank\">StreamingQuery</a>"
   ]
  },
  {
   "cell_type": "code",
   "execution_count": 0,
   "metadata": {
    "application/vnd.databricks.v1+cell": {
     "cellMetadata": {},
     "inputWidgets": {},
     "nuid": "cdcf88fe-34ce-45de-b02c-40754912509f",
     "showTitle": false,
     "title": ""
    }
   },
   "outputs": [
    {
     "data": {
      "text/html": []
     },
     "metadata": {
      "application/vnd.databricks.v1+output": {
       "addedWidgets": {},
       "arguments": {},
       "data": "",
       "datasetInfos": [],
       "metadata": {
        "isDbfsCommandResult": false
       },
       "removedWidgets": [],
       "textData": null,
       "type": "htmlSandbox"
      }
     },
     "output_type": "display_data"
    },
    {
     "data": {
      "text/html": [
       "Finished setting up utiltity methods..."
      ]
     },
     "metadata": {
      "application/vnd.databricks.v1+output": {
       "addedWidgets": {},
       "arguments": {},
       "data": "Finished setting up utiltity methods...",
       "datasetInfos": [],
       "metadata": {
        "isDbfsCommandResult": false
       },
       "removedWidgets": [],
       "textData": null,
       "type": "htmlSandbox"
      }
     },
     "output_type": "display_data"
    },
    {
     "data": {
      "text/html": [
       "Datasets mounted and student environment set up"
      ]
     },
     "metadata": {
      "application/vnd.databricks.v1+output": {
       "addedWidgets": {},
       "arguments": {},
       "data": "Datasets mounted and student environment set up",
       "datasetInfos": [],
       "metadata": {
        "isDbfsCommandResult": false
       },
       "removedWidgets": [],
       "textData": null,
       "type": "htmlSandbox"
      }
     },
     "output_type": "display_data"
    }
   ],
   "source": [
    "%run ./Includes/Classroom-Setup"
   ]
  },
  {
   "cell_type": "markdown",
   "metadata": {
    "application/vnd.databricks.v1+cell": {
     "cellMetadata": {},
     "inputWidgets": {},
     "nuid": "4e11c0d5-0aa2-4834-a053-261af8821027",
     "showTitle": false,
     "title": ""
    }
   },
   "source": [
    "### Build streaming DataFrames\n",
    "\n",
    "Obtain an initial streaming DataFrame from a Parquet-format file source."
   ]
  },
  {
   "cell_type": "code",
   "execution_count": 0,
   "metadata": {
    "application/vnd.databricks.v1+cell": {
     "cellMetadata": {},
     "inputWidgets": {},
     "nuid": "0a209a73-b074-41b2-8c36-a3b7a56c5082",
     "showTitle": false,
     "title": ""
    }
   },
   "outputs": [
    {
     "data": {
      "text/plain": [
       "Out[4]: True"
      ]
     },
     "metadata": {
      "application/vnd.databricks.v1+output": {
       "addedWidgets": {},
       "arguments": {},
       "data": "Out[4]: True",
       "datasetInfos": [],
       "metadata": {},
       "name": null,
       "removedWidgets": [],
       "type": "ansi"
      }
     },
     "output_type": "display_data"
    }
   ],
   "source": [
    "schema = \"device STRING, ecommerce STRUCT<purchase_revenue_in_usd: DOUBLE, total_item_quantity: BIGINT, unique_items: BIGINT>, event_name STRING, event_previous_timestamp BIGINT, event_timestamp BIGINT, geo STRUCT<city: STRING, state: STRING>, items ARRAY<STRUCT<coupon: STRING, item_id: STRING, item_name: STRING, item_revenue_in_usd: DOUBLE, price_in_usd: DOUBLE, quantity: BIGINT>>, traffic_source STRING, user_first_touch_timestamp BIGINT, user_id STRING\"\n",
    "\n",
    "df = (spark\n",
    "      .readStream\n",
    "      .schema(schema)\n",
    "      .option(\"maxFilesPerTrigger\", 1)\n",
    "      .parquet(eventsPath)\n",
    "     )\n",
    "df.isStreaming"
   ]
  },
  {
   "cell_type": "code",
   "execution_count": 0,
   "metadata": {
    "application/vnd.databricks.v1+cell": {
     "cellMetadata": {},
     "inputWidgets": {},
     "nuid": "92f132e0-0275-450d-9a77-c6d647b11a38",
     "showTitle": false,
     "title": ""
    }
   },
   "outputs": [
    {
     "data": {
      "text/plain": [
       "Out[7]: True"
      ]
     },
     "metadata": {
      "application/vnd.databricks.v1+output": {
       "addedWidgets": {},
       "arguments": {},
       "data": "Out[7]: True",
       "datasetInfos": [],
       "metadata": {},
       "name": null,
       "removedWidgets": [],
       "type": "ansi"
      }
     },
     "output_type": "display_data"
    }
   ],
   "source": [
    "schema = \"device STRING, ecommerce STRUCT<purchase_revenue_in_usd: DOUBLE, total_item_quantity: BIGINT, unique_items: BIGINT>, event_name STRING, event_previous_timestamp BIGINT, event_timestamp BIGINT, geo STRUCT<city: STRING, state: STRING>, items ARRAY<STRUCT<coupon: STRING, item_id: STRING, item_name: STRING, item_revenue_in_usd: DOUBLE, price_in_usd: DOUBLE, quantity: BIGINT>>, traffic_source STRING, user_first_touch_timestamp BIGINT, user_id STRING\"\n",
    "\n",
    "df = (spark.readStream\n",
    "           .schema(schema)\n",
    "           .option(\"maxFilesPerTrigger\", 1)\n",
    "           .parquet(eventsPath)\n",
    "        )\n",
    "\n",
    "df.isStreaming"
   ]
  },
  {
   "cell_type": "markdown",
   "metadata": {
    "application/vnd.databricks.v1+cell": {
     "cellMetadata": {},
     "inputWidgets": {},
     "nuid": "2c52cdae-cb68-49c7-ad44-b15f78b7bd31",
     "showTitle": false,
     "title": ""
    }
   },
   "source": [
    "Apply some transformations, producing new streaming DataFrames."
   ]
  },
  {
   "cell_type": "code",
   "execution_count": 0,
   "metadata": {
    "application/vnd.databricks.v1+cell": {
     "cellMetadata": {},
     "inputWidgets": {},
     "nuid": "ece65360-dbbd-408a-8544-6114c0fc11de",
     "showTitle": false,
     "title": ""
    }
   },
   "outputs": [],
   "source": [
    "from pyspark.sql.functions import col, approx_count_distinct, count"
   ]
  },
  {
   "cell_type": "code",
   "execution_count": 0,
   "metadata": {
    "application/vnd.databricks.v1+cell": {
     "cellMetadata": {},
     "inputWidgets": {},
     "nuid": "241d1154-933b-4c99-92cd-3a6d888f0c19",
     "showTitle": false,
     "title": ""
    }
   },
   "outputs": [],
   "source": [
    "emailTrafficDF = (df.filter(col(\"traffic_source\") == \"email\")\n",
    "                    .withColumn(\"mobile\", col(\"device\").isin(['iOS', 'Android']))\n",
    "                    .select(\"user_id\", \"event_timestamp\", \"mobile\")\n",
    "                 )"
   ]
  },
  {
   "cell_type": "code",
   "execution_count": 0,
   "metadata": {
    "application/vnd.databricks.v1+cell": {
     "cellMetadata": {},
     "inputWidgets": {},
     "nuid": "3e4ac34f-8dad-429d-9b5e-a150197dc2a8",
     "showTitle": false,
     "title": ""
    }
   },
   "outputs": [
    {
     "data": {
      "text/plain": [
       "Out[14]: True"
      ]
     },
     "metadata": {
      "application/vnd.databricks.v1+output": {
       "addedWidgets": {},
       "arguments": {},
       "data": "Out[14]: True",
       "datasetInfos": [],
       "metadata": {},
       "name": null,
       "removedWidgets": [],
       "type": "ansi"
      }
     },
     "output_type": "display_data"
    }
   ],
   "source": [
    "emailTrafficDF.isStreaming"
   ]
  },
  {
   "cell_type": "markdown",
   "metadata": {
    "application/vnd.databricks.v1+cell": {
     "cellMetadata": {},
     "inputWidgets": {},
     "nuid": "62179996-1bcb-4deb-b301-b471f77224f4",
     "showTitle": false,
     "title": ""
    }
   },
   "source": [
    "### Write streaming query results\n",
    "\n",
    "Take the final streaming DataFrame (our result table) and write it to a file sink in \"append\" mode."
   ]
  },
  {
   "cell_type": "code",
   "execution_count": 0,
   "metadata": {
    "application/vnd.databricks.v1+cell": {
     "cellMetadata": {},
     "inputWidgets": {},
     "nuid": "cdd1b9b0-631e-4090-aec2-345c96035da9",
     "showTitle": false,
     "title": ""
    }
   },
   "outputs": [],
   "source": [
    "checkpointPath = userhome + \"/email_traffic/checkpoint\"\n",
    "outputPath = userhome + \"/email_traffic/output\"\n",
    "\n",
    "devicesQuery = (emailTrafficDF\n",
    "                .writeStream\n",
    "                .outputMode(\"append\")\n",
    "                .format(\"parquet\")\n",
    "                .queryName(\"email_traffic\")\n",
    "                .trigger(processingTime=\"1 second\")\n",
    "                .option(\"checkpointLocation\", checkpointPath)\n",
    "                .start(outputPath)\n",
    "               )"
   ]
  },
  {
   "cell_type": "code",
   "execution_count": 0,
   "metadata": {
    "application/vnd.databricks.v1+cell": {
     "cellMetadata": {},
     "inputWidgets": {},
     "nuid": "e0ebbfa4-88ab-49ba-81bd-dc6d44527467",
     "showTitle": false,
     "title": ""
    }
   },
   "outputs": [],
   "source": [
    "checkpointPath = userhome + \"/email_traffic/checkpoint\"\n",
    "outputPath = userhome + \"/email_traffic/output\"\n",
    "\n",
    "devicesQuery = (emailTrafficDF\n",
    "                             .writeStream\n",
    "                             .outputMode(\"append\")\n",
    "                             .format(\"delta\")\n",
    "                             .queryName(\"email_traffic\")\n",
    "                             .trigger(processingTime=\"100 milliseconds\")\n",
    "                             .option(\"checkpointLocation\", checkpointPath)\n",
    "                             .start(outputPath))"
   ]
  },
  {
   "cell_type": "code",
   "execution_count": 0,
   "metadata": {
    "application/vnd.databricks.v1+cell": {
     "cellMetadata": {},
     "inputWidgets": {},
     "nuid": "07b94e49-de1d-46d4-827f-97a2c9d4c063",
     "showTitle": false,
     "title": ""
    }
   },
   "outputs": [
    {
     "data": {
      "text/plain": [
       "\u001b[0;31m---------------------------------------------------------------------------\u001b[0m\n",
       "\u001b[0;31mAttributeError\u001b[0m                            Traceback (most recent call last)\n",
       "\u001b[0;32m<command-632445097376683>\u001b[0m in \u001b[0;36m<cell line: 1>\u001b[0;34m()\u001b[0m\n",
       "\u001b[0;32m----> 1\u001b[0;31m \u001b[0mdevicesQuery\u001b[0m\u001b[0;34m.\u001b[0m\u001b[0mtake\u001b[0m\u001b[0;34m(\u001b[0m\u001b[0;36m5\u001b[0m\u001b[0;34m)\u001b[0m\u001b[0;34m\u001b[0m\u001b[0;34m\u001b[0m\u001b[0m\n",
       "\u001b[0m\n",
       "\u001b[0;31mAttributeError\u001b[0m: 'StreamingQuery' object has no attribute 'take'"
      ]
     },
     "metadata": {
      "application/vnd.databricks.v1+output": {
       "arguments": {},
       "data": "\u001b[0;31m---------------------------------------------------------------------------\u001b[0m\n\u001b[0;31mAttributeError\u001b[0m                            Traceback (most recent call last)\n\u001b[0;32m<command-632445097376683>\u001b[0m in \u001b[0;36m<cell line: 1>\u001b[0;34m()\u001b[0m\n\u001b[0;32m----> 1\u001b[0;31m \u001b[0mdevicesQuery\u001b[0m\u001b[0;34m.\u001b[0m\u001b[0mtake\u001b[0m\u001b[0;34m(\u001b[0m\u001b[0;36m5\u001b[0m\u001b[0;34m)\u001b[0m\u001b[0;34m\u001b[0m\u001b[0;34m\u001b[0m\u001b[0m\n\u001b[0m\n\u001b[0;31mAttributeError\u001b[0m: 'StreamingQuery' object has no attribute 'take'",
       "errorSummary": "<span class='ansi-red-fg'>AttributeError</span>: 'StreamingQuery' object has no attribute 'take'",
       "errorTraceType": "ansi",
       "metadata": {},
       "type": "ipynbError"
      }
     },
     "output_type": "display_data"
    }
   ],
   "source": [
    "devicesQuery.writeStream()"
   ]
  },
  {
   "cell_type": "markdown",
   "metadata": {
    "application/vnd.databricks.v1+cell": {
     "cellMetadata": {},
     "inputWidgets": {},
     "nuid": "ebf7af3c-1439-439f-9a3d-d079c637bc54",
     "showTitle": false,
     "title": ""
    }
   },
   "source": [
    "### Monitor streaming query\n",
    "\n",
    "Use the streaming query \"handle\" to monitor and control it."
   ]
  },
  {
   "cell_type": "code",
   "execution_count": 0,
   "metadata": {
    "application/vnd.databricks.v1+cell": {
     "cellMetadata": {},
     "inputWidgets": {},
     "nuid": "32f0f24c-b5fc-4ea2-8c12-fb0d84e2543d",
     "showTitle": false,
     "title": ""
    }
   },
   "outputs": [
    {
     "data": {
      "text/plain": [
       "Out[18]: '1a4d9de4-44f1-46d2-9969-bc2b4b6bcf9d'"
      ]
     },
     "metadata": {
      "application/vnd.databricks.v1+output": {
       "addedWidgets": {},
       "arguments": {},
       "data": "Out[18]: '1a4d9de4-44f1-46d2-9969-bc2b4b6bcf9d'",
       "datasetInfos": [],
       "metadata": {},
       "name": null,
       "removedWidgets": [],
       "type": "ansi"
      }
     },
     "output_type": "display_data"
    }
   ],
   "source": [
    "devicesQuery.id"
   ]
  },
  {
   "cell_type": "code",
   "execution_count": 0,
   "metadata": {
    "application/vnd.databricks.v1+cell": {
     "cellMetadata": {},
     "inputWidgets": {},
     "nuid": "853a097e-94da-431a-96e7-549b0fd1ef12",
     "showTitle": false,
     "title": ""
    }
   },
   "outputs": [
    {
     "data": {
      "text/plain": [
       "Out[19]: {'message': 'Getting offsets from FileStreamSource[dbfs:/mnt/training/ecommerce/events/events.parquet]',\n",
       " 'isDataAvailable': False,\n",
       " 'isTriggerActive': True}"
      ]
     },
     "metadata": {
      "application/vnd.databricks.v1+output": {
       "addedWidgets": {},
       "arguments": {},
       "data": "Out[19]: {'message': 'Getting offsets from FileStreamSource[dbfs:/mnt/training/ecommerce/events/events.parquet]',\n 'isDataAvailable': False,\n 'isTriggerActive': True}",
       "datasetInfos": [],
       "metadata": {},
       "name": null,
       "removedWidgets": [],
       "type": "ansi"
      }
     },
     "output_type": "display_data"
    }
   ],
   "source": [
    "devicesQuery.status"
   ]
  },
  {
   "cell_type": "code",
   "execution_count": 0,
   "metadata": {
    "application/vnd.databricks.v1+cell": {
     "cellMetadata": {},
     "inputWidgets": {},
     "nuid": "9b7edc59-662b-428b-9c74-6eece6f38fcb",
     "showTitle": false,
     "title": ""
    }
   },
   "outputs": [
    {
     "data": {
      "text/plain": [
       "Out[20]: {'id': '1a4d9de4-44f1-46d2-9969-bc2b4b6bcf9d',\n",
       " 'runId': 'e792a2ec-f56f-46ed-98c6-b07b69e74660',\n",
       " 'name': 'email_traffic',\n",
       " 'timestamp': '2023-02-25T17:01:49.700Z',\n",
       " 'batchId': 4,\n",
       " 'numInputRows': 0,\n",
       " 'inputRowsPerSecond': 0.0,\n",
       " 'processedRowsPerSecond': 0.0,\n",
       " 'durationMs': {'latestOffset': 126, 'triggerExecution': 127},\n",
       " 'stateOperators': [],\n",
       " 'sources': [{'description': 'FileStreamSource[dbfs:/mnt/training/ecommerce/events/events.parquet]',\n",
       "   'startOffset': {'logOffset': 3},\n",
       "   'endOffset': {'logOffset': 3},\n",
       "   'latestOffset': None,\n",
       "   'numInputRows': 0,\n",
       "   'inputRowsPerSecond': 0.0,\n",
       "   'processedRowsPerSecond': 0.0}],\n",
       " 'sink': {'description': 'DeltaSink[dbfs:/user/Admin.Databricks@novigosolutions.com/email_traffic/output]',\n",
       "  'numOutputRows': -1}}"
      ]
     },
     "metadata": {
      "application/vnd.databricks.v1+output": {
       "addedWidgets": {},
       "arguments": {},
       "data": "Out[20]: {'id': '1a4d9de4-44f1-46d2-9969-bc2b4b6bcf9d',\n 'runId': 'e792a2ec-f56f-46ed-98c6-b07b69e74660',\n 'name': 'email_traffic',\n 'timestamp': '2023-02-25T17:01:49.700Z',\n 'batchId': 4,\n 'numInputRows': 0,\n 'inputRowsPerSecond': 0.0,\n 'processedRowsPerSecond': 0.0,\n 'durationMs': {'latestOffset': 126, 'triggerExecution': 127},\n 'stateOperators': [],\n 'sources': [{'description': 'FileStreamSource[dbfs:/mnt/training/ecommerce/events/events.parquet]',\n   'startOffset': {'logOffset': 3},\n   'endOffset': {'logOffset': 3},\n   'latestOffset': None,\n   'numInputRows': 0,\n   'inputRowsPerSecond': 0.0,\n   'processedRowsPerSecond': 0.0}],\n 'sink': {'description': 'DeltaSink[dbfs:/user/Admin.Databricks@novigosolutions.com/email_traffic/output]',\n  'numOutputRows': -1}}",
       "datasetInfos": [],
       "metadata": {},
       "name": null,
       "removedWidgets": [],
       "type": "ansi"
      }
     },
     "output_type": "display_data"
    }
   ],
   "source": [
    "devicesQuery.lastProgress"
   ]
  },
  {
   "cell_type": "code",
   "execution_count": 0,
   "metadata": {
    "application/vnd.databricks.v1+cell": {
     "cellMetadata": {},
     "inputWidgets": {},
     "nuid": "1d33e381-c59a-4a96-ae75-838d7b1c7ac0",
     "showTitle": false,
     "title": ""
    }
   },
   "outputs": [
    {
     "data": {
      "text/plain": [
       "Out[21]: False"
      ]
     },
     "metadata": {
      "application/vnd.databricks.v1+output": {
       "addedWidgets": {},
       "arguments": {},
       "data": "Out[21]: False",
       "datasetInfos": [],
       "metadata": {},
       "name": null,
       "removedWidgets": [],
       "type": "ansi"
      }
     },
     "output_type": "display_data"
    }
   ],
   "source": [
    "devicesQuery.awaitTermination(5)"
   ]
  },
  {
   "cell_type": "code",
   "execution_count": 0,
   "metadata": {
    "application/vnd.databricks.v1+cell": {
     "cellMetadata": {},
     "inputWidgets": {},
     "nuid": "a782611e-5fac-4acd-9680-be25fc0f2187",
     "showTitle": false,
     "title": ""
    }
   },
   "outputs": [],
   "source": [
    "devicesQuery.stop()"
   ]
  },
  {
   "cell_type": "markdown",
   "metadata": {
    "application/vnd.databricks.v1+cell": {
     "cellMetadata": {},
     "inputWidgets": {},
     "nuid": "0810cb3e-750e-4e98-b34e-cfd6edfcdb69",
     "showTitle": false,
     "title": ""
    }
   },
   "source": [
    "# Coupon Sales Lab\n",
    "Process and append streaming data on transactions using coupons.\n",
    "1. Read data stream\n",
    "2. Filter for transactions with coupons codes\n",
    "3. Write streaming query results to Parquet\n",
    "4. Monitor streaming query\n",
    "5. Stop streaming query\n",
    "\n",
    "##### Classes\n",
    "- <a href=\"https://spark.apache.org/docs/latest/api/python/reference/api/pyspark.sql.streaming.DataStreamReader.html#pyspark.sql.streaming.DataStreamReader\" target=\"_blank\">DataStreamReader</a>\n",
    "- <a href=\"https://spark.apache.org/docs/latest/api/python/reference/api/pyspark.sql.streaming.DataStreamWriter.html#pyspark.sql.streaming.DataStreamWriter\" target=\"_blank\">DataStreamWriter</a>\n",
    "- <a href=\"https://spark.apache.org/docs/latest/api/python/reference/api/pyspark.sql.streaming.StreamingQuery.html#pyspark.sql.streaming.StreamingQuery\" target=\"_blank\">StreamingQuery</a>"
   ]
  },
  {
   "cell_type": "markdown",
   "metadata": {
    "application/vnd.databricks.v1+cell": {
     "cellMetadata": {},
     "inputWidgets": {},
     "nuid": "c9025d4b-a098-4228-9063-656ef7386f2f",
     "showTitle": false,
     "title": ""
    }
   },
   "source": [
    "### 1. Read data stream\n",
    "- Use the schema stored in **`schema`**\n",
    "- Set to process 1 file per trigger\n",
    "- Read from Parquet files in the source directory specified by **`salesPath`**\n",
    "\n",
    "Assign the resulting DataFrame to **`df`**."
   ]
  },
  {
   "cell_type": "code",
   "execution_count": 0,
   "metadata": {
    "application/vnd.databricks.v1+cell": {
     "cellMetadata": {},
     "inputWidgets": {},
     "nuid": "2227ddc1-58f0-4b65-8952-4e8360fdcce2",
     "showTitle": false,
     "title": ""
    }
   },
   "outputs": [],
   "source": [
    "schema = \"order_id BIGINT, email STRING, transaction_timestamp BIGINT, total_item_quantity BIGINT, purchase_revenue_in_usd DOUBLE, unique_items BIGINT, items ARRAY<STRUCT<coupon: STRING, item_id: STRING, item_name: STRING, item_revenue_in_usd: DOUBLE, price_in_usd: DOUBLE, quantity: BIGINT>>\""
   ]
  },
  {
   "cell_type": "code",
   "execution_count": 0,
   "metadata": {
    "application/vnd.databricks.v1+cell": {
     "cellMetadata": {},
     "inputWidgets": {},
     "nuid": "ab30778b-2be6-4fed-aeff-4671b3576ab9",
     "showTitle": false,
     "title": ""
    }
   },
   "outputs": [],
   "source": [
    "# TODO\n",
    "df = (spark.readStream\n",
    "           .schema(schema)\n",
    "           .option(\"maxFilesPerTrigger\", 1)\n",
    "           .parquet(salesPath)\n",
    ")"
   ]
  },
  {
   "cell_type": "markdown",
   "metadata": {
    "application/vnd.databricks.v1+cell": {
     "cellMetadata": {},
     "inputWidgets": {},
     "nuid": "25115480-7dea-4936-8e71-ed0a2320d898",
     "showTitle": false,
     "title": ""
    }
   },
   "source": [
    "**CHECK YOUR WORK**"
   ]
  },
  {
   "cell_type": "code",
   "execution_count": 0,
   "metadata": {
    "application/vnd.databricks.v1+cell": {
     "cellMetadata": {},
     "inputWidgets": {},
     "nuid": "2981d38f-dfe9-4f03-aab9-4aa13f6e61e7",
     "showTitle": false,
     "title": ""
    }
   },
   "outputs": [],
   "source": [
    "assert df.isStreaming\n",
    "assert df.columns == [\"order_id\", \"email\", \"transaction_timestamp\", \"total_item_quantity\", \"purchase_revenue_in_usd\", \"unique_items\", \"items\"]"
   ]
  },
  {
   "cell_type": "markdown",
   "metadata": {
    "application/vnd.databricks.v1+cell": {
     "cellMetadata": {},
     "inputWidgets": {},
     "nuid": "e4d96d0f-6fb1-4785-b2ce-f338fbeecc7f",
     "showTitle": false,
     "title": ""
    }
   },
   "source": [
    "### 2. Filter for transactions with coupon codes\n",
    "- Explode the **`items`** field in **`df`** with the results replacing the existing **`items`** field\n",
    "- Filter for records where **`items.coupon`** is not null\n",
    "\n",
    "Assign the resulting DataFrame to **`couponSalesDF`**."
   ]
  },
  {
   "cell_type": "code",
   "execution_count": 0,
   "metadata": {
    "application/vnd.databricks.v1+cell": {
     "cellMetadata": {},
     "inputWidgets": {},
     "nuid": "98cd4393-3db1-4eee-becd-c6b93679e818",
     "showTitle": false,
     "title": ""
    }
   },
   "outputs": [],
   "source": [
    "# TODO\n",
    "from pyspark.sql.functions import explode\n",
    "\n",
    "couponSalesDF = (df.withColumn(\"items\", explode(col(\"items\")))\n",
    "                   .filter(col(\"items.coupon\").isNotNull())\n",
    ")"
   ]
  },
  {
   "cell_type": "markdown",
   "metadata": {
    "application/vnd.databricks.v1+cell": {
     "cellMetadata": {},
     "inputWidgets": {},
     "nuid": "12b91635-9cc6-4ff8-b85b-967c34c7c8b6",
     "showTitle": false,
     "title": ""
    }
   },
   "source": [
    "**CHECK YOUR WORK**"
   ]
  },
  {
   "cell_type": "code",
   "execution_count": 0,
   "metadata": {
    "application/vnd.databricks.v1+cell": {
     "cellMetadata": {},
     "inputWidgets": {},
     "nuid": "b363cc6f-408b-4ad7-ba47-ea08c0c2870a",
     "showTitle": false,
     "title": ""
    }
   },
   "outputs": [],
   "source": [
    "schemaStr = str(couponSalesDF.schema)\n",
    "assert \"StructField(items,StructType(List(StructField(coupon\" in schemaStr, \"items column was not exploded\""
   ]
  },
  {
   "cell_type": "markdown",
   "metadata": {
    "application/vnd.databricks.v1+cell": {
     "cellMetadata": {},
     "inputWidgets": {},
     "nuid": "79407503-2b6c-4f97-9e47-4d27509ff3cf",
     "showTitle": false,
     "title": ""
    }
   },
   "source": [
    "### 3. Write streaming query results to parquet\n",
    "- Configure the streaming query to write Parquet format files in \"append\" mode\n",
    "- Set the query name to \"coupon_sales\"\n",
    "- Set a trigger interval of 1 second\n",
    "- Set the checkpoint location to **`couponsCheckpointPath`**\n",
    "- Set the output path to **`couponsOutputPath`**\n",
    "\n",
    "Start the streaming query and assign the resulting handle to **`couponSalesQuery`**."
   ]
  },
  {
   "cell_type": "code",
   "execution_count": 0,
   "metadata": {
    "application/vnd.databricks.v1+cell": {
     "cellMetadata": {},
     "inputWidgets": {},
     "nuid": "4b7f3bef-b9ec-4516-94b1-98a690b3d499",
     "showTitle": false,
     "title": ""
    }
   },
   "outputs": [],
   "source": [
    "# TODO\n",
    "couponsCheckpointPath = workingDir + \"/coupon-sales/checkpoint\"\n",
    "couponsOutputPath = workingDir + \"/coupon-sales/output\"\n",
    "\n",
    "couponSalesQuery = (couponSalesDF.writeStream\n",
    "                                 .format(\"parquet\")\n",
    "                                 .queryName(\"coupon_sales\")\n",
    "                                 .trigger(processingTime=\"1 second\")\n",
    "                                 .option(\"checkpointLocation\", couponsCheckpointPath)\n",
    "                                 .start(couponsOutputPath)\n",
    "                                 \n",
    ")"
   ]
  },
  {
   "cell_type": "markdown",
   "metadata": {
    "application/vnd.databricks.v1+cell": {
     "cellMetadata": {},
     "inputWidgets": {},
     "nuid": "b46b2288-97e6-4812-8ecb-1fd69afa87ea",
     "showTitle": false,
     "title": ""
    }
   },
   "source": [
    "**CHECK YOUR WORK**"
   ]
  },
  {
   "cell_type": "code",
   "execution_count": 0,
   "metadata": {
    "application/vnd.databricks.v1+cell": {
     "cellMetadata": {},
     "inputWidgets": {},
     "nuid": "c0993c77-d06f-4982-85ec-3ae9f7b1e3ca",
     "showTitle": false,
     "title": ""
    }
   },
   "outputs": [
    {
     "data": {
      "text/plain": [
       "The stream coupon_sales is active and ready.\n"
      ]
     },
     "metadata": {
      "application/vnd.databricks.v1+output": {
       "addedWidgets": {},
       "arguments": {},
       "data": "The stream coupon_sales is active and ready.\n",
       "datasetInfos": [],
       "metadata": {},
       "name": null,
       "removedWidgets": [],
       "type": "ansi"
      }
     },
     "output_type": "display_data"
    }
   ],
   "source": [
    "untilStreamIsReady(\"coupon_sales\")\n",
    "assert couponSalesQuery.isActive\n",
    "assert len(dbutils.fs.ls(couponsOutputPath)) > 0\n",
    "assert len(dbutils.fs.ls(couponsCheckpointPath)) > 0\n",
    "assert \"coupon_sales\" in couponSalesQuery.lastProgress[\"name\"]"
   ]
  },
  {
   "cell_type": "markdown",
   "metadata": {
    "application/vnd.databricks.v1+cell": {
     "cellMetadata": {},
     "inputWidgets": {},
     "nuid": "f737494a-3d07-4e38-8d83-86e06f42e3c2",
     "showTitle": false,
     "title": ""
    }
   },
   "source": [
    "### 4. Monitor streaming query\n",
    "- Get the ID of streaming query and store it in **`queryID`**\n",
    "- Get the status of streaming query and store it in **`queryStatus`**"
   ]
  },
  {
   "cell_type": "code",
   "execution_count": 0,
   "metadata": {
    "application/vnd.databricks.v1+cell": {
     "cellMetadata": {},
     "inputWidgets": {},
     "nuid": "f227750e-e47a-492e-8776-70fcdc4db551",
     "showTitle": false,
     "title": ""
    }
   },
   "outputs": [],
   "source": [
    "# TODO\n",
    "queryID = couponSalesQuery.id"
   ]
  },
  {
   "cell_type": "code",
   "execution_count": 0,
   "metadata": {
    "application/vnd.databricks.v1+cell": {
     "cellMetadata": {},
     "inputWidgets": {},
     "nuid": "e08eef0e-fa53-4538-af01-c0cd9bd5ecb9",
     "showTitle": false,
     "title": ""
    }
   },
   "outputs": [],
   "source": [
    "# TODO\n",
    "queryStatus = couponSalesQuery.status"
   ]
  },
  {
   "cell_type": "markdown",
   "metadata": {
    "application/vnd.databricks.v1+cell": {
     "cellMetadata": {},
     "inputWidgets": {},
     "nuid": "ba4ced6f-9a44-4722-8707-f7ed9c5b3402",
     "showTitle": false,
     "title": ""
    }
   },
   "source": [
    "**CHECK YOUR WORK**"
   ]
  },
  {
   "cell_type": "code",
   "execution_count": 0,
   "metadata": {
    "application/vnd.databricks.v1+cell": {
     "cellMetadata": {},
     "inputWidgets": {},
     "nuid": "d7cfbaa3-650f-4144-906b-26552ac39611",
     "showTitle": false,
     "title": ""
    }
   },
   "outputs": [],
   "source": [
    "assert type(queryID) == str\n",
    "assert list(queryStatus.keys()) == [\"message\", \"isDataAvailable\", \"isTriggerActive\"]"
   ]
  },
  {
   "cell_type": "markdown",
   "metadata": {
    "application/vnd.databricks.v1+cell": {
     "cellMetadata": {},
     "inputWidgets": {},
     "nuid": "74af7c72-7853-4ff4-8dc8-99e223139906",
     "showTitle": false,
     "title": ""
    }
   },
   "source": [
    "### 5. Stop streaming query\n",
    "- Stop the streaming query"
   ]
  },
  {
   "cell_type": "code",
   "execution_count": 0,
   "metadata": {
    "application/vnd.databricks.v1+cell": {
     "cellMetadata": {},
     "inputWidgets": {},
     "nuid": "bf42d240-f1fe-4da3-8f6a-65be6e0b279b",
     "showTitle": false,
     "title": ""
    }
   },
   "outputs": [],
   "source": [
    "# TODO\n",
    "couponSalesQuery.stop()"
   ]
  },
  {
   "cell_type": "markdown",
   "metadata": {
    "application/vnd.databricks.v1+cell": {
     "cellMetadata": {},
     "inputWidgets": {},
     "nuid": "065d8a1f-006e-43c2-bf90-3b05d94994ae",
     "showTitle": false,
     "title": ""
    }
   },
   "source": [
    "**CHECK YOUR WORK**"
   ]
  },
  {
   "cell_type": "code",
   "execution_count": 0,
   "metadata": {
    "application/vnd.databricks.v1+cell": {
     "cellMetadata": {},
     "inputWidgets": {},
     "nuid": "bbdf31f6-e93d-4727-93f9-4bbf141a93fc",
     "showTitle": false,
     "title": ""
    }
   },
   "outputs": [],
   "source": [
    "assert not couponSalesQuery.isActive"
   ]
  },
  {
   "cell_type": "markdown",
   "metadata": {
    "application/vnd.databricks.v1+cell": {
     "cellMetadata": {},
     "inputWidgets": {},
     "nuid": "d8b33867-a4f3-4488-8a70-f62a119b0884",
     "showTitle": false,
     "title": ""
    }
   },
   "source": [
    "### 6. Verify the records were written in Parquet format"
   ]
  },
  {
   "cell_type": "code",
   "execution_count": 0,
   "metadata": {
    "application/vnd.databricks.v1+cell": {
     "cellMetadata": {},
     "inputWidgets": {},
     "nuid": "4c9012cf-7ae4-4cb8-a233-4efe24ee0761",
     "showTitle": false,
     "title": ""
    }
   },
   "outputs": [
    {
     "data": {
      "text/html": [
       "<style scoped>\n",
       "  .table-result-container {\n",
       "    max-height: 300px;\n",
       "    overflow: auto;\n",
       "  }\n",
       "  table, th, td {\n",
       "    border: 1px solid black;\n",
       "    border-collapse: collapse;\n",
       "  }\n",
       "  th, td {\n",
       "    padding: 5px;\n",
       "  }\n",
       "  th {\n",
       "    text-align: left;\n",
       "  }\n",
       "</style><div class='table-result-container'><table class='table-result'><thead style='background-color: white'><tr><th>order_id</th><th>email</th><th>transaction_timestamp</th><th>total_item_quantity</th><th>purchase_revenue_in_usd</th><th>unique_items</th><th>items</th></tr></thead><tbody><tr><td>282611</td><td>bmurillo@hotmail.com</td><td>1592504237604072</td><td>1</td><td>940.5</td><td>1</td><td>List(NEWBED10, M_STAN_Q, Standard Queen Mattress, 940.5, 1045.0, 1)</td></tr><tr><td>283949</td><td>whardin@hotmail.com</td><td>1592510720760323</td><td>1</td><td>535.5</td><td>1</td><td>List(NEWBED10, M_STAN_T, Standard Twin Mattress, 535.5, 595.0, 1)</td></tr><tr><td>264191</td><td>maxwelltara@edwards.com</td><td>1592306255847870</td><td>2</td><td>993.6</td><td>2</td><td>List(NEWBED10, M_STAN_Q, Standard Queen Mattress, 940.5, 1045.0, 1)</td></tr><tr><td>264191</td><td>maxwelltara@edwards.com</td><td>1592306255847870</td><td>2</td><td>993.6</td><td>2</td><td>List(NEWBED10, P_FOAM_S, Standard Foam Pillow, 53.1, 59.0, 1)</td></tr><tr><td>286727</td><td>rojasjorge@yahoo.com</td><td>1592533048926949</td><td>1</td><td>535.5</td><td>1</td><td>List(NEWBED10, M_STAN_T, Standard Twin Mattress, 535.5, 595.0, 1)</td></tr></tbody></table></div>"
      ]
     },
     "metadata": {
      "application/vnd.databricks.v1+output": {
       "addedWidgets": {},
       "aggData": [],
       "aggError": "",
       "aggOverflow": false,
       "aggSchema": [],
       "aggSeriesLimitReached": false,
       "aggType": "",
       "arguments": {},
       "columnCustomDisplayInfos": {},
       "data": [
        [
         282611,
         "bmurillo@hotmail.com",
         1592504237604072,
         1,
         940.5,
         1,
         [
          "NEWBED10",
          "M_STAN_Q",
          "Standard Queen Mattress",
          940.5,
          1045,
          1
         ]
        ],
        [
         283949,
         "whardin@hotmail.com",
         1592510720760323,
         1,
         535.5,
         1,
         [
          "NEWBED10",
          "M_STAN_T",
          "Standard Twin Mattress",
          535.5,
          595,
          1
         ]
        ],
        [
         264191,
         "maxwelltara@edwards.com",
         1592306255847870,
         2,
         993.6,
         2,
         [
          "NEWBED10",
          "M_STAN_Q",
          "Standard Queen Mattress",
          940.5,
          1045,
          1
         ]
        ],
        [
         264191,
         "maxwelltara@edwards.com",
         1592306255847870,
         2,
         993.6,
         2,
         [
          "NEWBED10",
          "P_FOAM_S",
          "Standard Foam Pillow",
          53.1,
          59,
          1
         ]
        ],
        [
         286727,
         "rojasjorge@yahoo.com",
         1592533048926949,
         1,
         535.5,
         1,
         [
          "NEWBED10",
          "M_STAN_T",
          "Standard Twin Mattress",
          535.5,
          595,
          1
         ]
        ]
       ],
       "datasetInfos": [],
       "dbfsResultPath": null,
       "isJsonSchema": true,
       "metadata": {},
       "overflow": false,
       "plotOptions": {
        "customPlotOptions": {},
        "displayType": "table",
        "pivotAggregation": null,
        "pivotColumns": [],
        "xColumns": [],
        "yColumns": []
       },
       "removedWidgets": [],
       "schema": [
        {
         "metadata": "{}",
         "name": "order_id",
         "type": "\"long\""
        },
        {
         "metadata": "{}",
         "name": "email",
         "type": "\"string\""
        },
        {
         "metadata": "{}",
         "name": "transaction_timestamp",
         "type": "\"long\""
        },
        {
         "metadata": "{}",
         "name": "total_item_quantity",
         "type": "\"long\""
        },
        {
         "metadata": "{}",
         "name": "purchase_revenue_in_usd",
         "type": "\"double\""
        },
        {
         "metadata": "{}",
         "name": "unique_items",
         "type": "\"long\""
        },
        {
         "metadata": "{}",
         "name": "items",
         "type": "{\"type\":\"struct\",\"fields\":[{\"name\":\"coupon\",\"type\":\"string\",\"nullable\":true,\"metadata\":{}},{\"name\":\"item_id\",\"type\":\"string\",\"nullable\":true,\"metadata\":{}},{\"name\":\"item_name\",\"type\":\"string\",\"nullable\":true,\"metadata\":{}},{\"name\":\"item_revenue_in_usd\",\"type\":\"double\",\"nullable\":true,\"metadata\":{}},{\"name\":\"price_in_usd\",\"type\":\"double\",\"nullable\":true,\"metadata\":{}},{\"name\":\"quantity\",\"type\":\"long\",\"nullable\":true,\"metadata\":{}}]}"
        }
       ],
       "type": "table"
      }
     },
     "output_type": "display_data"
    }
   ],
   "source": [
    "# TODO\n",
    "display(spark.read.parquet(couponsOutputPath).limit(5))"
   ]
  },
  {
   "cell_type": "markdown",
   "metadata": {
    "application/vnd.databricks.v1+cell": {
     "cellMetadata": {},
     "inputWidgets": {},
     "nuid": "b80f5b57-9628-464d-8142-ebf584f75b1b",
     "showTitle": false,
     "title": ""
    }
   },
   "source": [
    "### Classroom Cleanup\n",
    "Run the cell below to clean up resources."
   ]
  },
  {
   "cell_type": "code",
   "execution_count": 0,
   "metadata": {
    "application/vnd.databricks.v1+cell": {
     "cellMetadata": {},
     "inputWidgets": {},
     "nuid": "ab190992-88f0-4594-8249-5d1423e44376",
     "showTitle": false,
     "title": ""
    }
   },
   "outputs": [
    {
     "data": {
      "text/html": [
       "Dropped database and removed files in working directory"
      ]
     },
     "metadata": {
      "application/vnd.databricks.v1+output": {
       "addedWidgets": {},
       "arguments": {},
       "data": "Dropped database and removed files in working directory",
       "datasetInfos": [],
       "metadata": {},
       "removedWidgets": [],
       "textData": null,
       "type": "htmlSandbox"
      }
     },
     "output_type": "display_data"
    }
   ],
   "source": [
    "%run ./Includes/Classroom-Cleanup"
   ]
  },
  {
   "cell_type": "markdown",
   "metadata": {
    "application/vnd.databricks.v1+cell": {
     "cellMetadata": {},
     "inputWidgets": {},
     "nuid": "435bf03e-fd2b-4b41-8b90-df380e1d7a32",
     "showTitle": false,
     "title": ""
    }
   },
   "source": [
    "-sandbox\n",
    "&copy; 2022 Databricks, Inc. All rights reserved.<br/>\n",
    "Apache, Apache Spark, Spark and the Spark logo are trademarks of the <a href=\"https://www.apache.org/\">Apache Software Foundation</a>.<br/>\n",
    "<br/>\n",
    "<a href=\"https://databricks.com/privacy-policy\">Privacy Policy</a> | <a href=\"https://databricks.com/terms-of-use\">Terms of Use</a> | <a href=\"https://help.databricks.com/\">Support</a>"
   ]
  }
 ],
 "metadata": {
  "application/vnd.databricks.v1+notebook": {
   "dashboards": [],
   "language": "python",
   "notebookMetadata": {
    "mostRecentlyExecutedCommandWithImplicitDF": {
     "commandId": 632445097376692,
     "dataframes": [
      "_sqldf"
     ]
    },
    "pythonIndentUnit": 2
   },
   "notebookName": "ASP 4.1 - Streaming Query",
   "notebookOrigID": 874905206501301,
   "widgets": {}
  },
  "kernelspec": {
   "display_name": "Python 3",
   "language": "python",
   "name": "python3"
  },
  "language_info": {
   "codemirror_mode": {
    "name": "ipython",
    "version": 3
   },
   "file_extension": ".py",
   "mimetype": "text/x-python",
   "name": "python",
   "nbconvert_exporter": "python",
   "pygments_lexer": "ipython3",
   "version": "3.8.8"
  }
 },
 "nbformat": 4,
 "nbformat_minor": 1
}
