{
 "cells": [
  {
   "cell_type": "markdown",
   "metadata": {
    "application/vnd.databricks.v1+cell": {
     "cellMetadata": {},
     "inputWidgets": {},
     "nuid": "e4bc3bbc-3e4b-49ee-a516-1bebad809018",
     "showTitle": false,
     "title": ""
    }
   },
   "source": [
    "# User-Defined Functions\n",
    "\n",
    "##### Objectives\n",
    "1. Define a function\n",
    "1. Create and apply a UDF\n",
    "1. Register the UDF to use in SQL\n",
    "1. Create and register a UDF with Python decorator syntax\n",
    "1. Create and apply a Pandas (vectorized) UDF\n",
    "\n",
    "##### Methods\n",
    "- <a href=\"https://spark.apache.org/docs/latest/api/python/reference/api/pyspark.sql.functions.udf.html?#pyspark.sql.functions.udf\" target=\"_blank\">UDF Registration (`spark.udf`)</a>: `register`\n",
    "- <a href=\"https://spark.apache.org/docs/latest/api/python/reference/pyspark.sql.html?#functions\" target=\"_blank\">Built-In Functions</a>: `udf`\n",
    "- <a href=\"https://docs.databricks.com/spark/latest/spark-sql/udf-python.html#use-udf-with-dataframes\" target=\"_blank\">Python UDF Decorator</a>: `@udf`\n",
    "- <a href=\"https://docs.databricks.com/spark/latest/spark-sql/udf-python-pandas.html#pandas-user-defined-functions\" target=\"_blank\">Pandas UDF Decorator</a>: `@pandas_udf`"
   ]
  },
  {
   "cell_type": "markdown",
   "metadata": {
    "application/vnd.databricks.v1+cell": {
     "cellMetadata": {},
     "inputWidgets": {},
     "nuid": "a57893fe-7b28-4ae5-9e0c-d4f57c69c213",
     "showTitle": false,
     "title": ""
    }
   },
   "source": [
    "### User-Defined Function (UDF)\n",
    "A custom column transformation function\n",
    "\n",
    "- Can’t be optimized by Catalyst Optimizer\n",
    "- Function is serialized and sent to executors\n",
    "- Row data is deserialized from Spark's native binary format to pass to the UDF, and the results are serialized back into Spark's native format\n",
    "- For Python UDFs, additional interprocess communication overhead between the executor and a Python interpreter running on each worker node"
   ]
  },
  {
   "cell_type": "code",
   "execution_count": 0,
   "metadata": {
    "application/vnd.databricks.v1+cell": {
     "cellMetadata": {},
     "inputWidgets": {},
     "nuid": "6d21a482-25a5-494b-a73f-68d86b3a7fcc",
     "showTitle": false,
     "title": ""
    }
   },
   "outputs": [
    {
     "data": {
      "text/html": []
     },
     "metadata": {
      "application/vnd.databricks.v1+output": {
       "addedWidgets": {},
       "arguments": {},
       "data": "",
       "datasetInfos": [],
       "metadata": {
        "isDbfsCommandResult": false
       },
       "removedWidgets": [],
       "textData": null,
       "type": "htmlSandbox"
      }
     },
     "output_type": "display_data"
    },
    {
     "data": {
      "text/html": [
       "Finished setting up utiltity methods..."
      ]
     },
     "metadata": {
      "application/vnd.databricks.v1+output": {
       "addedWidgets": {},
       "arguments": {},
       "data": "Finished setting up utiltity methods...",
       "datasetInfos": [],
       "metadata": {
        "isDbfsCommandResult": false
       },
       "removedWidgets": [],
       "textData": null,
       "type": "htmlSandbox"
      }
     },
     "output_type": "display_data"
    },
    {
     "data": {
      "text/html": [
       "Datasets mounted and student environment set up"
      ]
     },
     "metadata": {
      "application/vnd.databricks.v1+output": {
       "addedWidgets": {},
       "arguments": {},
       "data": "Datasets mounted and student environment set up",
       "datasetInfos": [],
       "metadata": {
        "isDbfsCommandResult": false
       },
       "removedWidgets": [],
       "textData": null,
       "type": "htmlSandbox"
      }
     },
     "output_type": "display_data"
    }
   ],
   "source": [
    "%run ./Includes/Classroom-Setup"
   ]
  },
  {
   "cell_type": "markdown",
   "metadata": {
    "application/vnd.databricks.v1+cell": {
     "cellMetadata": {},
     "inputWidgets": {},
     "nuid": "558c6f3d-9064-4db5-9ab0-db269f9a9f92",
     "showTitle": false,
     "title": ""
    }
   },
   "source": [
    "For this demo, we're going to use the sales data."
   ]
  },
  {
   "cell_type": "code",
   "execution_count": 0,
   "metadata": {
    "application/vnd.databricks.v1+cell": {
     "cellMetadata": {},
     "inputWidgets": {},
     "nuid": "bafa59d2-8e34-4530-aa29-968fa6535acf",
     "showTitle": false,
     "title": ""
    }
   },
   "outputs": [
    {
     "data": {
      "text/html": [
       "<style scoped>\n",
       "  .table-result-container {\n",
       "    max-height: 300px;\n",
       "    overflow: auto;\n",
       "  }\n",
       "  table, th, td {\n",
       "    border: 1px solid black;\n",
       "    border-collapse: collapse;\n",
       "  }\n",
       "  th, td {\n",
       "    padding: 5px;\n",
       "  }\n",
       "  th {\n",
       "    text-align: left;\n",
       "  }\n",
       "</style><div class='table-result-container'><table class='table-result'><thead style='background-color: white'><tr><th>order_id</th><th>email</th><th>transaction_timestamp</th><th>total_item_quantity</th><th>purchase_revenue_in_usd</th><th>unique_items</th><th>items</th></tr></thead><tbody><tr><td>257437</td><td>kmunoz@powell-duran.com</td><td>1592194221828900</td><td>1</td><td>1995.0</td><td>1</td><td>List(List(null, M_PREM_K, Premium King Mattress, 1995.0, 1995.0, 1))</td></tr><tr><td>282611</td><td>bmurillo@hotmail.com</td><td>1592504237604072</td><td>1</td><td>940.5</td><td>1</td><td>List(List(NEWBED10, M_STAN_Q, Standard Queen Mattress, 940.5, 1045.0, 1))</td></tr><tr><td>257448</td><td>bradley74@gmail.com</td><td>1592200438030141</td><td>1</td><td>945.0</td><td>1</td><td>List(List(null, M_STAN_F, Standard Full Mattress, 945.0, 945.0, 1))</td></tr></tbody></table></div>"
      ]
     },
     "metadata": {
      "application/vnd.databricks.v1+output": {
       "addedWidgets": {},
       "aggData": [],
       "aggError": "",
       "aggOverflow": false,
       "aggSchema": [],
       "aggSeriesLimitReached": false,
       "aggType": "",
       "arguments": {},
       "columnCustomDisplayInfos": {},
       "data": [
        [
         257437,
         "kmunoz@powell-duran.com",
         1592194221828900,
         1,
         1995,
         1,
         [
          [
           null,
           "M_PREM_K",
           "Premium King Mattress",
           1995,
           1995,
           1
          ]
         ]
        ],
        [
         282611,
         "bmurillo@hotmail.com",
         1592504237604072,
         1,
         940.5,
         1,
         [
          [
           "NEWBED10",
           "M_STAN_Q",
           "Standard Queen Mattress",
           940.5,
           1045,
           1
          ]
         ]
        ],
        [
         257448,
         "bradley74@gmail.com",
         1592200438030141,
         1,
         945,
         1,
         [
          [
           null,
           "M_STAN_F",
           "Standard Full Mattress",
           945,
           945,
           1
          ]
         ]
        ]
       ],
       "datasetInfos": [],
       "dbfsResultPath": null,
       "isJsonSchema": true,
       "metadata": {},
       "overflow": false,
       "plotOptions": {
        "customPlotOptions": {},
        "displayType": "table",
        "pivotAggregation": null,
        "pivotColumns": [],
        "xColumns": [],
        "yColumns": []
       },
       "removedWidgets": [],
       "schema": [
        {
         "metadata": "{}",
         "name": "order_id",
         "type": "\"long\""
        },
        {
         "metadata": "{}",
         "name": "email",
         "type": "\"string\""
        },
        {
         "metadata": "{}",
         "name": "transaction_timestamp",
         "type": "\"long\""
        },
        {
         "metadata": "{}",
         "name": "total_item_quantity",
         "type": "\"long\""
        },
        {
         "metadata": "{}",
         "name": "purchase_revenue_in_usd",
         "type": "\"double\""
        },
        {
         "metadata": "{}",
         "name": "unique_items",
         "type": "\"long\""
        },
        {
         "metadata": "{}",
         "name": "items",
         "type": "{\"type\":\"array\",\"elementType\":{\"type\":\"struct\",\"fields\":[{\"name\":\"coupon\",\"type\":\"string\",\"nullable\":true,\"metadata\":{}},{\"name\":\"item_id\",\"type\":\"string\",\"nullable\":true,\"metadata\":{}},{\"name\":\"item_name\",\"type\":\"string\",\"nullable\":true,\"metadata\":{}},{\"name\":\"item_revenue_in_usd\",\"type\":\"double\",\"nullable\":true,\"metadata\":{}},{\"name\":\"price_in_usd\",\"type\":\"double\",\"nullable\":true,\"metadata\":{}},{\"name\":\"quantity\",\"type\":\"long\",\"nullable\":true,\"metadata\":{}}]},\"containsNull\":true}"
        }
       ],
       "type": "table"
      }
     },
     "output_type": "display_data"
    }
   ],
   "source": [
    "salesDF = spark.read.parquet(salesPath)\n",
    "display(salesDF.take(3))"
   ]
  },
  {
   "cell_type": "markdown",
   "metadata": {
    "application/vnd.databricks.v1+cell": {
     "cellMetadata": {},
     "inputWidgets": {},
     "nuid": "64a11e19-5cb1-4e37-ad56-25fd1722bf10",
     "showTitle": false,
     "title": ""
    }
   },
   "source": [
    "### Define a function\n",
    "\n",
    "Define a function (on the driver) to get the first letter of a string from the `email` field."
   ]
  },
  {
   "cell_type": "code",
   "execution_count": 0,
   "metadata": {
    "application/vnd.databricks.v1+cell": {
     "cellMetadata": {},
     "inputWidgets": {},
     "nuid": "97f03bdd-ae02-42e2-9f0d-bbd8257d18e1",
     "showTitle": false,
     "title": ""
    }
   },
   "outputs": [
    {
     "data": {
      "text/plain": [
       "Out[5]: 'a'"
      ]
     },
     "metadata": {
      "application/vnd.databricks.v1+output": {
       "addedWidgets": {},
       "arguments": {},
       "data": "Out[5]: 'a'",
       "datasetInfos": [],
       "metadata": {},
       "removedWidgets": [],
       "type": "ansi"
      }
     },
     "output_type": "display_data"
    }
   ],
   "source": [
    "def firstLetterFunction(email):\n",
    "    return email[0]\n",
    "\n",
    "firstLetterFunction(\"annagray@kaufman.com\")"
   ]
  },
  {
   "cell_type": "markdown",
   "metadata": {
    "application/vnd.databricks.v1+cell": {
     "cellMetadata": {},
     "inputWidgets": {},
     "nuid": "83465dba-1412-4b0e-ab6d-6f971409d1d3",
     "showTitle": false,
     "title": ""
    }
   },
   "source": [
    "### Create and apply UDF\n",
    "Register the function as a UDF. This serializes the function and sends it to executors to be able to transform DataFrame records."
   ]
  },
  {
   "cell_type": "code",
   "execution_count": 0,
   "metadata": {
    "application/vnd.databricks.v1+cell": {
     "cellMetadata": {},
     "inputWidgets": {},
     "nuid": "4fb5e855-a2bb-4d22-a130-39ef70ecb82d",
     "showTitle": false,
     "title": ""
    }
   },
   "outputs": [],
   "source": [
    "firstLetterUDF = udf(firstLetterFunction)"
   ]
  },
  {
   "cell_type": "markdown",
   "metadata": {
    "application/vnd.databricks.v1+cell": {
     "cellMetadata": {},
     "inputWidgets": {},
     "nuid": "f7b6d442-acf3-4013-9285-37915d1e6e20",
     "showTitle": false,
     "title": ""
    }
   },
   "source": [
    "Apply the UDF on the `email` column."
   ]
  },
  {
   "cell_type": "markdown",
   "metadata": {
    "application/vnd.databricks.v1+cell": {
     "cellMetadata": {},
     "inputWidgets": {},
     "nuid": "a3181c1f-65f6-4199-90fa-559944b0f4cd",
     "showTitle": false,
     "title": ""
    }
   },
   "source": [
    "### Register UDF to use in SQL\n",
    "Register the UDF using `spark.udf.register` to also make it available for use in the SQL namespace."
   ]
  },
  {
   "cell_type": "code",
   "execution_count": 0,
   "metadata": {
    "application/vnd.databricks.v1+cell": {
     "cellMetadata": {},
     "inputWidgets": {},
     "nuid": "e81eebfc-d1eb-4b87-b039-e576672bcecc",
     "showTitle": false,
     "title": ""
    }
   },
   "outputs": [],
   "source": [
    "salesDF.createOrReplaceTempView(\"sales\")\n",
    "\n",
    "firstLetterUDF = spark.udf.register(\"sql_udf\", firstLetterFunction)"
   ]
  },
  {
   "cell_type": "code",
   "execution_count": 0,
   "metadata": {
    "application/vnd.databricks.v1+cell": {
     "cellMetadata": {
      "implicitDf": true
     },
     "inputWidgets": {},
     "nuid": "de6be98c-2d01-4807-b4e8-588a3eb492fd",
     "showTitle": false,
     "title": ""
    }
   },
   "outputs": [
    {
     "data": {
      "text/html": [
       "<style scoped>\n",
       "  .table-result-container {\n",
       "    max-height: 300px;\n",
       "    overflow: auto;\n",
       "  }\n",
       "  table, th, td {\n",
       "    border: 1px solid black;\n",
       "    border-collapse: collapse;\n",
       "  }\n",
       "  th, td {\n",
       "    padding: 5px;\n",
       "  }\n",
       "  th {\n",
       "    text-align: left;\n",
       "  }\n",
       "</style><div class='table-result-container'><table class='table-result'><thead style='background-color: white'><tr><th>firstLetter</th></tr></thead><tbody><tr><td>k</td></tr><tr><td>b</td></tr></tbody></table></div>"
      ]
     },
     "metadata": {
      "application/vnd.databricks.v1+output": {
       "addedWidgets": {},
       "aggData": [],
       "aggError": "",
       "aggOverflow": false,
       "aggSchema": [],
       "aggSeriesLimitReached": false,
       "aggType": "",
       "arguments": {},
       "columnCustomDisplayInfos": {},
       "data": [
        [
         "k"
        ],
        [
         "b"
        ]
       ],
       "datasetInfos": [],
       "dbfsResultPath": null,
       "isJsonSchema": true,
       "metadata": {},
       "overflow": false,
       "plotOptions": {
        "customPlotOptions": {},
        "displayType": "table",
        "pivotAggregation": null,
        "pivotColumns": [],
        "xColumns": [],
        "yColumns": []
       },
       "removedWidgets": [],
       "schema": [
        {
         "metadata": "{}",
         "name": "firstLetter",
         "type": "\"string\""
        }
       ],
       "type": "table"
      }
     },
     "output_type": "display_data"
    }
   ],
   "source": [
    "%sql\n",
    "-- You can now also apply the UDF from SQL\n",
    "SELECT sql_udf(email) AS firstLetter FROM sales limit 2"
   ]
  },
  {
   "cell_type": "markdown",
   "metadata": {
    "application/vnd.databricks.v1+cell": {
     "cellMetadata": {},
     "inputWidgets": {},
     "nuid": "e30ac81e-f0de-4da8-b6e1-1319f3887594",
     "showTitle": false,
     "title": ""
    }
   },
   "source": [
    "### Use Decorator Syntax (Python Only)\n",
    "\n",
    "Alternatively, you can define and register a UDF using <a href=\"https://realpython.com/primer-on-python-decorators/\" target=\"_blank\">Python decorator syntax</a>. The `@udf` decorator parameter is the Column datatype the function returns.\n",
    "\n",
    "You will no longer be able to call the local Python function (i.e., `firstLetterUDF(\"annagray@kaufman.com\")` will not work).\n",
    "\n",
    "<img src=\"https://files.training.databricks.com/images/icon_note_32.png\" alt=\"Note\"> This example also uses <a href=\"https://docs.python.org/3/library/typing.html\" target=\"_blank\">Python type hints</a>, which were introduced in Python 3.5. Type hints are not required for this example, but instead serve as \"documentation\" to help developers use the function correctly. They are used in this example to emphasize that the UDF processes one record at a time, taking a single `str` argument and returning a `str` value."
   ]
  },
  {
   "cell_type": "code",
   "execution_count": 0,
   "metadata": {
    "application/vnd.databricks.v1+cell": {
     "cellMetadata": {},
     "inputWidgets": {},
     "nuid": "d57b9dc5-1b0b-4ca8-8964-94c78187a774",
     "showTitle": false,
     "title": ""
    }
   },
   "outputs": [
    {
     "data": {
      "text/plain": [
       "CPU times: user 4 µs, sys: 0 ns, total: 4 µs\n",
       "Wall time: 10.5 µs\n"
      ]
     },
     "metadata": {
      "application/vnd.databricks.v1+output": {
       "addedWidgets": {},
       "arguments": {},
       "data": "CPU times: user 4 µs, sys: 0 ns, total: 4 µs\nWall time: 10.5 µs\n",
       "datasetInfos": [],
       "metadata": {},
       "removedWidgets": [],
       "type": "ansi"
      }
     },
     "output_type": "display_data"
    }
   ],
   "source": [
    "# Our input/output is a string\n",
    "%time\n",
    "@udf(\"string\")\n",
    "def firstLetterUDF(email: str) -> str:\n",
    "    return email[0]"
   ]
  },
  {
   "cell_type": "markdown",
   "metadata": {
    "application/vnd.databricks.v1+cell": {
     "cellMetadata": {},
     "inputWidgets": {},
     "nuid": "6a9175ae-e699-4206-8d32-c35882dac1f0",
     "showTitle": false,
     "title": ""
    }
   },
   "source": [
    "And let's use our decorator UDF here."
   ]
  },
  {
   "cell_type": "code",
   "execution_count": 0,
   "metadata": {
    "application/vnd.databricks.v1+cell": {
     "cellMetadata": {},
     "inputWidgets": {},
     "nuid": "133a8fa5-217c-45f6-8ded-bdee9ae0ec67",
     "showTitle": false,
     "title": ""
    }
   },
   "outputs": [
    {
     "data": {
      "text/html": [
       "<style scoped>\n",
       "  .table-result-container {\n",
       "    max-height: 300px;\n",
       "    overflow: auto;\n",
       "  }\n",
       "  table, th, td {\n",
       "    border: 1px solid black;\n",
       "    border-collapse: collapse;\n",
       "  }\n",
       "  th, td {\n",
       "    padding: 5px;\n",
       "  }\n",
       "  th {\n",
       "    text-align: left;\n",
       "  }\n",
       "</style><div class='table-result-container'><table class='table-result'><thead style='background-color: white'><tr><th>firstLetterUDF(email)</th></tr></thead><tbody><tr><td>k</td></tr><tr><td>b</td></tr><tr><td>b</td></tr></tbody></table></div>"
      ]
     },
     "metadata": {
      "application/vnd.databricks.v1+output": {
       "addedWidgets": {},
       "aggData": [],
       "aggError": "",
       "aggOverflow": false,
       "aggSchema": [],
       "aggSeriesLimitReached": false,
       "aggType": "",
       "arguments": {},
       "columnCustomDisplayInfos": {},
       "data": [
        [
         "k"
        ],
        [
         "b"
        ],
        [
         "b"
        ]
       ],
       "datasetInfos": [],
       "dbfsResultPath": null,
       "isJsonSchema": true,
       "metadata": {},
       "overflow": false,
       "plotOptions": {
        "customPlotOptions": {},
        "displayType": "table",
        "pivotAggregation": null,
        "pivotColumns": [],
        "xColumns": [],
        "yColumns": []
       },
       "removedWidgets": [],
       "schema": [
        {
         "metadata": "{}",
         "name": "firstLetterUDF(email)",
         "type": "\"string\""
        }
       ],
       "type": "table"
      }
     },
     "output_type": "display_data"
    }
   ],
   "source": [
    "from pyspark.sql.functions import col\n",
    "\n",
    "salesDF = spark.read.parquet(\"/mnt/training/ecommerce/sales/sales.parquet\")\n",
    "display(salesDF.select(firstLetterUDF(col(\"email\"))).take(3))"
   ]
  },
  {
   "cell_type": "markdown",
   "metadata": {
    "application/vnd.databricks.v1+cell": {
     "cellMetadata": {},
     "inputWidgets": {},
     "nuid": "d5dd7917-dec6-40ed-8877-1c7009cff155",
     "showTitle": false,
     "title": ""
    }
   },
   "source": [
    "### Pandas/Vectorized UDFs\n",
    "\n",
    "As of Spark 2.3, there are Pandas UDFs available in Python to improve the efficiency of UDFs. Pandas UDFs utilize Apache Arrow to speed up computation.\n",
    "\n",
    "* <a href=\"https://databricks.com/blog/2017/10/30/introducing-vectorized-udfs-for-pyspark.html\" target=\"_blank\">Blog post</a>\n",
    "* <a href=\"https://spark.apache.org/docs/latest/api/python/user_guide/sql/arrow_pandas.html?highlight=arrow\" target=\"_blank\">Documentation</a>\n",
    "\n",
    "<img src=\"https://databricks.com/wp-content/uploads/2017/10/image1-4.png\" alt=\"Benchmark\" width =\"500\" height=\"1500\">\n",
    "\n",
    "The user-defined functions are executed using: \n",
    "* <a href=\"https://arrow.apache.org/\" target=\"_blank\">Apache Arrow</a>, an in-memory columnar data format that is used in Spark to efficiently transfer data between JVM and Python processes with near-zero (de)serialization cost\n",
    "* Pandas inside the function, to work with Pandas instances and APIs\n",
    "\n",
    "<img src=\"https://files.training.databricks.com/images/icon_warn_32.png\" alt=\"Warning\"> As of Spark 3.0, you should **always** define your Pandas UDF using Python type hints."
   ]
  },
  {
   "cell_type": "code",
   "execution_count": 0,
   "metadata": {
    "application/vnd.databricks.v1+cell": {
     "cellMetadata": {},
     "inputWidgets": {},
     "nuid": "ba5713d2-210a-4d3d-aaee-dc6214ec39ae",
     "showTitle": false,
     "title": ""
    }
   },
   "outputs": [
    {
     "data": {
      "application/vnd.databricks.v1+bamboolib_hint": "{\"pd.DataFrames\": [], \"version\": \"0.0.1\"}",
      "text/plain": []
     },
     "metadata": {
      "application/vnd.databricks.v1+output": {
       "addedWidgets": {},
       "arguments": {},
       "data": {
        "application/vnd.databricks.v1+bamboolib_hint": "{\"pd.DataFrames\": [], \"version\": \"0.0.1\"}",
        "text/plain": ""
       },
       "datasetInfos": [],
       "metadata": {
        "kernelSessionId": "63db42c9-49d742181e3faf6d86606a01"
       },
       "removedWidgets": [],
       "type": "mimeBundle"
      }
     },
     "output_type": "display_data"
    }
   ],
   "source": [
    "import pandas as pd\n",
    "from pyspark.sql.functions import pandas_udf\n",
    "\n",
    "# We have a string input/output\n",
    "@pandas_udf(\"string\")\n",
    "def vectorizedUDF(email: pd.Series) -> pd.Series:\n",
    "    return email.str[0]\n",
    "\n",
    "# Alternatively\n",
    "# def vectorizedUDF(email: pd.Series) -> pd.Series:\n",
    "#     return email.str[0]\n",
    "# vectorizedUDF = pandas_udf(vectorizedUDF, \"string\")"
   ]
  },
  {
   "cell_type": "code",
   "execution_count": 0,
   "metadata": {
    "application/vnd.databricks.v1+cell": {
     "cellMetadata": {},
     "inputWidgets": {},
     "nuid": "14bd6cfe-cc1c-401d-b880-c8203214bb8c",
     "showTitle": false,
     "title": ""
    }
   },
   "outputs": [
    {
     "data": {
      "text/html": [
       "<style scoped>\n",
       "  .table-result-container {\n",
       "    max-height: 300px;\n",
       "    overflow: auto;\n",
       "  }\n",
       "  table, th, td {\n",
       "    border: 1px solid black;\n",
       "    border-collapse: collapse;\n",
       "  }\n",
       "  th, td {\n",
       "    padding: 5px;\n",
       "  }\n",
       "  th {\n",
       "    text-align: left;\n",
       "  }\n",
       "</style><div class='table-result-container'><table class='table-result'><thead style='background-color: white'><tr><th>vectorizedUDF(email)</th></tr></thead><tbody><tr><td>k</td></tr><tr><td>b</td></tr><tr><td>b</td></tr></tbody></table></div>"
      ]
     },
     "metadata": {
      "application/vnd.databricks.v1+output": {
       "addedWidgets": {},
       "aggData": [],
       "aggError": "",
       "aggOverflow": false,
       "aggSchema": [],
       "aggSeriesLimitReached": false,
       "aggType": "",
       "arguments": {},
       "columnCustomDisplayInfos": {},
       "data": [
        [
         "k"
        ],
        [
         "b"
        ],
        [
         "b"
        ]
       ],
       "datasetInfos": [],
       "dbfsResultPath": null,
       "isJsonSchema": true,
       "metadata": {},
       "overflow": false,
       "plotOptions": {
        "customPlotOptions": {},
        "displayType": "table",
        "pivotAggregation": null,
        "pivotColumns": [],
        "xColumns": [],
        "yColumns": []
       },
       "removedWidgets": [],
       "schema": [
        {
         "metadata": "{}",
         "name": "vectorizedUDF(email)",
         "type": "\"string\""
        }
       ],
       "type": "table"
      }
     },
     "output_type": "display_data"
    }
   ],
   "source": [
    "display(salesDF.select(vectorizedUDF(col(\"email\"))).take(3))"
   ]
  },
  {
   "cell_type": "markdown",
   "metadata": {
    "application/vnd.databricks.v1+cell": {
     "cellMetadata": {},
     "inputWidgets": {},
     "nuid": "a8496907-65e8-4435-b7f7-ba04415ea550",
     "showTitle": false,
     "title": ""
    }
   },
   "source": [
    "We can also register these Pandas UDFs to the SQL namespace."
   ]
  },
  {
   "cell_type": "code",
   "execution_count": 0,
   "metadata": {
    "application/vnd.databricks.v1+cell": {
     "cellMetadata": {},
     "inputWidgets": {},
     "nuid": "d4cef90f-41db-4ebf-a855-a1862da01340",
     "showTitle": false,
     "title": ""
    }
   },
   "outputs": [
    {
     "data": {
      "text/plain": [
       "Out[31]: <function __main__.vectorizedUDF(email: pandas.core.series.Series) -> pandas.core.series.Series>"
      ]
     },
     "metadata": {
      "application/vnd.databricks.v1+output": {
       "addedWidgets": {},
       "arguments": {},
       "data": "Out[31]: <function __main__.vectorizedUDF(email: pandas.core.series.Series) -> pandas.core.series.Series>",
       "datasetInfos": [],
       "metadata": {},
       "removedWidgets": [],
       "type": "ansi"
      }
     },
     "output_type": "display_data"
    }
   ],
   "source": [
    "spark.udf.register(\"sql_vectorized_udf\", vectorizedUDF)"
   ]
  },
  {
   "cell_type": "code",
   "execution_count": 0,
   "metadata": {
    "application/vnd.databricks.v1+cell": {
     "cellMetadata": {
      "implicitDf": true
     },
     "inputWidgets": {},
     "nuid": "158f95d8-5da0-4161-8754-9236809f365f",
     "showTitle": false,
     "title": ""
    }
   },
   "outputs": [
    {
     "data": {
      "text/html": [
       "<style scoped>\n",
       "  .table-result-container {\n",
       "    max-height: 300px;\n",
       "    overflow: auto;\n",
       "  }\n",
       "  table, th, td {\n",
       "    border: 1px solid black;\n",
       "    border-collapse: collapse;\n",
       "  }\n",
       "  th, td {\n",
       "    padding: 5px;\n",
       "  }\n",
       "  th {\n",
       "    text-align: left;\n",
       "  }\n",
       "</style><div class='table-result-container'><table class='table-result'><thead style='background-color: white'><tr><th>firstLetter</th></tr></thead><tbody><tr><td>k</td></tr><tr><td>b</td></tr></tbody></table></div>"
      ]
     },
     "metadata": {
      "application/vnd.databricks.v1+output": {
       "addedWidgets": {},
       "aggData": [],
       "aggError": "",
       "aggOverflow": false,
       "aggSchema": [],
       "aggSeriesLimitReached": false,
       "aggType": "",
       "arguments": {},
       "columnCustomDisplayInfos": {},
       "data": [
        [
         "k"
        ],
        [
         "b"
        ]
       ],
       "datasetInfos": [],
       "dbfsResultPath": null,
       "isJsonSchema": true,
       "metadata": {},
       "overflow": false,
       "plotOptions": {
        "customPlotOptions": {},
        "displayType": "table",
        "pivotAggregation": null,
        "pivotColumns": [],
        "xColumns": [],
        "yColumns": []
       },
       "removedWidgets": [],
       "schema": [
        {
         "metadata": "{}",
         "name": "firstLetter",
         "type": "\"string\""
        }
       ],
       "type": "table"
      }
     },
     "output_type": "display_data"
    }
   ],
   "source": [
    "%sql\n",
    "-- Use the Pandas UDF from SQL\n",
    "SELECT sql_vectorized_udf(email) AS firstLetter FROM sales limit 2"
   ]
  },
  {
   "cell_type": "markdown",
   "metadata": {
    "application/vnd.databricks.v1+cell": {
     "cellMetadata": {},
     "inputWidgets": {},
     "nuid": "eb054eef-0f3d-495b-8ddc-495dc3348a3c",
     "showTitle": false,
     "title": ""
    }
   },
   "source": [
    "# Sort Day Lab\n",
    "\n",
    "##### Tasks\n",
    "1. Define a UDF to label the day of week\n",
    "1. Apply the UDF to label and sort by day of week\n",
    "1. Plot active users by day of week as a bar graph"
   ]
  },
  {
   "cell_type": "markdown",
   "metadata": {
    "application/vnd.databricks.v1+cell": {
     "cellMetadata": {},
     "inputWidgets": {},
     "nuid": "3a50027b-df33-45d0-a3d7-7078ebeda33b",
     "showTitle": false,
     "title": ""
    }
   },
   "source": [
    "Start with a DataFrame of the average number of active users by day of week.\n",
    "\n",
    "This was the resulting `df` in a previous lab."
   ]
  },
  {
   "cell_type": "code",
   "execution_count": 0,
   "metadata": {
    "application/vnd.databricks.v1+cell": {
     "cellMetadata": {},
     "inputWidgets": {},
     "nuid": "5a0ffa70-9600-4e9e-92cc-fdda6f5b631e",
     "showTitle": false,
     "title": ""
    }
   },
   "outputs": [
    {
     "data": {
      "text/html": [
       "<style scoped>\n",
       "  .table-result-container {\n",
       "    max-height: 300px;\n",
       "    overflow: auto;\n",
       "  }\n",
       "  table, th, td {\n",
       "    border: 1px solid black;\n",
       "    border-collapse: collapse;\n",
       "  }\n",
       "  th, td {\n",
       "    padding: 5px;\n",
       "  }\n",
       "  th {\n",
       "    text-align: left;\n",
       "  }\n",
       "</style><div class='table-result-container'><table class='table-result'><thead style='background-color: white'><tr><th>day</th><th>avg_users</th></tr></thead><tbody><tr><td>Sun</td><td>282905.5</td></tr><tr><td>Mon</td><td>238195.5</td></tr><tr><td>Thu</td><td>264620.0</td></tr></tbody></table></div>"
      ]
     },
     "metadata": {
      "application/vnd.databricks.v1+output": {
       "addedWidgets": {},
       "aggData": [],
       "aggError": "",
       "aggOverflow": false,
       "aggSchema": [],
       "aggSeriesLimitReached": false,
       "aggType": "",
       "arguments": {},
       "columnCustomDisplayInfos": {},
       "data": [
        [
         "Sun",
         282905.5
        ],
        [
         "Mon",
         238195.5
        ],
        [
         "Thu",
         264620
        ]
       ],
       "datasetInfos": [],
       "dbfsResultPath": null,
       "isJsonSchema": true,
       "metadata": {},
       "overflow": false,
       "plotOptions": {
        "customPlotOptions": {},
        "displayType": "table",
        "pivotAggregation": null,
        "pivotColumns": [],
        "xColumns": [],
        "yColumns": []
       },
       "removedWidgets": [],
       "schema": [
        {
         "metadata": "{}",
         "name": "day",
         "type": "\"string\""
        },
        {
         "metadata": "{}",
         "name": "avg_users",
         "type": "\"double\""
        }
       ],
       "type": "table"
      }
     },
     "output_type": "display_data"
    }
   ],
   "source": [
    "from pyspark.sql.functions import approx_count_distinct, avg, col, date_format, to_date\n",
    "\n",
    "df = (spark\n",
    "      .read\n",
    "      .parquet(eventsPath)\n",
    "      .withColumn(\"ts\", (col(\"event_timestamp\") / 1e6).cast(\"timestamp\"))\n",
    "      .withColumn(\"date\", to_date(\"ts\"))\n",
    "      .groupBy(\"date\").agg(approx_count_distinct(\"user_id\").alias(\"active_users\"))\n",
    "      .withColumn(\"day\", date_format(col(\"date\"), \"E\"))\n",
    "      .groupBy(\"day\").agg(avg(col(\"active_users\")).alias(\"avg_users\"))\n",
    "     )\n",
    "\n",
    "display(df.take(3))"
   ]
  },
  {
   "cell_type": "code",
   "execution_count": 0,
   "metadata": {
    "application/vnd.databricks.v1+cell": {
     "cellMetadata": {},
     "inputWidgets": {},
     "nuid": "403aeb5f-24bd-4dc0-a6fb-69255fdd80e7",
     "showTitle": false,
     "title": ""
    }
   },
   "outputs": [],
   "source": []
  },
  {
   "cell_type": "markdown",
   "metadata": {
    "application/vnd.databricks.v1+cell": {
     "cellMetadata": {},
     "inputWidgets": {},
     "nuid": "a86b4d57-4b6f-4586-a80c-d7adaa871b85",
     "showTitle": false,
     "title": ""
    }
   },
   "source": [
    "### 1. Define UDF to label day of week\n",
    "\n",
    "Use the **`labelDayOfWeek`** function provided below to create the UDF **`labelDowUDF`**"
   ]
  },
  {
   "cell_type": "code",
   "execution_count": 0,
   "metadata": {
    "application/vnd.databricks.v1+cell": {
     "cellMetadata": {},
     "inputWidgets": {},
     "nuid": "d9bfb1a0-d327-42d1-abf7-41a3f40386b8",
     "showTitle": false,
     "title": ""
    }
   },
   "outputs": [],
   "source": [
    "def labelDayOfWeek(day: str) -> str:\n",
    "    dow = {\"Mon\": \"1\", \"Tue\": \"2\", \"Wed\": \"3\", \"Thu\": \"4\",\n",
    "           \"Fri\": \"5\", \"Sat\": \"6\", \"Sun\": \"7\"}\n",
    "    return dow.get(day) + \"-\" + day"
   ]
  },
  {
   "cell_type": "code",
   "execution_count": 0,
   "metadata": {
    "application/vnd.databricks.v1+cell": {
     "cellMetadata": {},
     "inputWidgets": {},
     "nuid": "291308c5-35ef-4c51-9e63-0ebe8a6a713e",
     "showTitle": false,
     "title": ""
    }
   },
   "outputs": [],
   "source": [
    "# TODO\n",
    "labelDowUDF = udf(labelDayOfWeek)"
   ]
  },
  {
   "cell_type": "markdown",
   "metadata": {
    "application/vnd.databricks.v1+cell": {
     "cellMetadata": {},
     "inputWidgets": {},
     "nuid": "415a0d34-7890-44f8-8d36-efca1ed5618b",
     "showTitle": false,
     "title": ""
    }
   },
   "source": [
    "### 2. Apply UDF to label and sort by day of week\n",
    "- Update the **`day`** column by applying the UDF and replacing this column\n",
    "- Sort by **`day`**\n",
    "- Plot as a bar graph"
   ]
  },
  {
   "cell_type": "code",
   "execution_count": 0,
   "metadata": {
    "application/vnd.databricks.v1+cell": {
     "cellMetadata": {},
     "inputWidgets": {},
     "nuid": "af0aafd9-1a45-490e-9afc-19b626616a67",
     "showTitle": false,
     "title": ""
    }
   },
   "outputs": [
    {
     "data": {
      "text/html": [
       "<style scoped>\n",
       "  .table-result-container {\n",
       "    max-height: 300px;\n",
       "    overflow: auto;\n",
       "  }\n",
       "  table, th, td {\n",
       "    border: 1px solid black;\n",
       "    border-collapse: collapse;\n",
       "  }\n",
       "  th, td {\n",
       "    padding: 5px;\n",
       "  }\n",
       "  th {\n",
       "    text-align: left;\n",
       "  }\n",
       "</style><div class='table-result-container'><table class='table-result'><thead style='background-color: white'><tr><th>labelDayOfWeek(day)</th></tr></thead><tbody><tr><td>7-Sun</td></tr><tr><td>1-Mon</td></tr><tr><td>4-Thu</td></tr></tbody></table></div>"
      ]
     },
     "metadata": {
      "application/vnd.databricks.v1+output": {
       "addedWidgets": {},
       "aggData": [],
       "aggError": "",
       "aggOverflow": false,
       "aggSchema": [],
       "aggSeriesLimitReached": false,
       "aggType": "",
       "arguments": {},
       "columnCustomDisplayInfos": {},
       "data": [
        [
         "7-Sun"
        ],
        [
         "1-Mon"
        ],
        [
         "4-Thu"
        ]
       ],
       "datasetInfos": [],
       "dbfsResultPath": null,
       "isJsonSchema": true,
       "metadata": {},
       "overflow": false,
       "plotOptions": {
        "customPlotOptions": {},
        "displayType": "table",
        "pivotAggregation": null,
        "pivotColumns": [],
        "xColumns": [],
        "yColumns": []
       },
       "removedWidgets": [],
       "schema": [
        {
         "metadata": "{}",
         "name": "labelDayOfWeek(day)",
         "type": "\"string\""
        }
       ],
       "type": "table"
      }
     },
     "output_type": "display_data"
    }
   ],
   "source": [
    "# TODO\n",
    "finalDF = df.select(labelDowUDF(col(\"day\")))\n",
    "\n",
    "display(finalDF.take(3))"
   ]
  },
  {
   "cell_type": "markdown",
   "metadata": {
    "application/vnd.databricks.v1+cell": {
     "cellMetadata": {},
     "inputWidgets": {},
     "nuid": "897379c6-cea7-434b-a61c-437cad4185fe",
     "showTitle": false,
     "title": ""
    }
   },
   "source": [
    "### Clean up classroom"
   ]
  },
  {
   "cell_type": "code",
   "execution_count": 0,
   "metadata": {
    "application/vnd.databricks.v1+cell": {
     "cellMetadata": {},
     "inputWidgets": {},
     "nuid": "13ce6594-6e73-4bb8-9116-f3b616562eab",
     "showTitle": false,
     "title": ""
    }
   },
   "outputs": [
    {
     "data": {
      "text/html": [
       "Dropped database and removed files in working directory"
      ]
     },
     "metadata": {
      "application/vnd.databricks.v1+output": {
       "addedWidgets": {},
       "arguments": {},
       "data": "Dropped database and removed files in working directory",
       "datasetInfos": [],
       "metadata": {},
       "removedWidgets": [],
       "textData": null,
       "type": "htmlSandbox"
      }
     },
     "output_type": "display_data"
    }
   ],
   "source": [
    "%run ./Includes/Classroom-Cleanup"
   ]
  },
  {
   "cell_type": "code",
   "execution_count": 0,
   "metadata": {
    "application/vnd.databricks.v1+cell": {
     "cellMetadata": {
      "implicitDf": true
     },
     "inputWidgets": {},
     "nuid": "5b6e7e59-c397-4aa0-a660-1eccaae552bc",
     "showTitle": false,
     "title": ""
    }
   },
   "outputs": [
    {
     "data": {
      "text/html": [
       "<style scoped>\n",
       "  .table-result-container {\n",
       "    max-height: 300px;\n",
       "    overflow: auto;\n",
       "  }\n",
       "  table, th, td {\n",
       "    border: 1px solid black;\n",
       "    border-collapse: collapse;\n",
       "  }\n",
       "  th, td {\n",
       "    padding: 5px;\n",
       "  }\n",
       "  th {\n",
       "    text-align: left;\n",
       "  }\n",
       "</style><div class='table-result-container'><table class='table-result'><thead style='background-color: white'><tr></tr></thead><tbody></tbody></table></div>"
      ]
     },
     "metadata": {
      "application/vnd.databricks.v1+output": {
       "addedWidgets": {},
       "aggData": [],
       "aggError": "",
       "aggOverflow": false,
       "aggSchema": [],
       "aggSeriesLimitReached": false,
       "aggType": "",
       "arguments": {},
       "columnCustomDisplayInfos": {},
       "data": [],
       "datasetInfos": [],
       "dbfsResultPath": null,
       "isJsonSchema": true,
       "metadata": {},
       "overflow": false,
       "plotOptions": {
        "customPlotOptions": {},
        "displayType": "table",
        "pivotAggregation": null,
        "pivotColumns": null,
        "xColumns": null,
        "yColumns": null
       },
       "removedWidgets": [],
       "schema": [],
       "type": "table"
      }
     },
     "output_type": "display_data"
    }
   ],
   "source": [
    "%sql\n",
    "\n",
    "DROP DATABASE dbacademy_admin_databricks_novigosolutions_com_spark_programming_asp_2_5___udfs CASCADE"
   ]
  },
  {
   "cell_type": "markdown",
   "metadata": {
    "application/vnd.databricks.v1+cell": {
     "cellMetadata": {},
     "inputWidgets": {},
     "nuid": "4183283c-6470-4d63-b5e8-97e99e24a26e",
     "showTitle": false,
     "title": ""
    }
   },
   "source": [
    "-sandbox\n",
    "&copy; 2022 Databricks, Inc. All rights reserved.<br/>\n",
    "Apache, Apache Spark, Spark and the Spark logo are trademarks of the <a href=\"https://www.apache.org/\">Apache Software Foundation</a>.<br/>\n",
    "<br/>\n",
    "<a href=\"https://databricks.com/privacy-policy\">Privacy Policy</a> | <a href=\"https://databricks.com/terms-of-use\">Terms of Use</a> | <a href=\"https://help.databricks.com/\">Support</a>"
   ]
  }
 ],
 "metadata": {
  "application/vnd.databricks.v1+notebook": {
   "dashboards": [],
   "language": "python",
   "notebookMetadata": {
    "mostRecentlyExecutedCommandWithImplicitDF": {
     "commandId": 593404378093738,
     "dataframes": [
      "_sqldf"
     ]
    },
    "pythonIndentUnit": 2
   },
   "notebookName": "ASP 2.5 - UDFs",
   "notebookOrigID": 874905206501675,
   "widgets": {}
  },
  "kernelspec": {
   "display_name": "Python 3",
   "language": "python",
   "name": "python3"
  },
  "language_info": {
   "codemirror_mode": {
    "name": "ipython",
    "version": 3
   },
   "file_extension": ".py",
   "mimetype": "text/x-python",
   "name": "python",
   "nbconvert_exporter": "python",
   "pygments_lexer": "ipython3",
   "version": "3.8.8"
  }
 },
 "nbformat": 4,
 "nbformat_minor": 1
}
